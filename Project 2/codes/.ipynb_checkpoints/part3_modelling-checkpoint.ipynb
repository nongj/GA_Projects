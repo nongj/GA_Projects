{
 "cells": [
  {
   "cell_type": "markdown",
   "id": "73ed581b",
   "metadata": {},
   "source": [
    "# Triple-A Ames Housing Price Model (Part 3)\n",
    "\n",
    "<img src = \" ../images/cover.png\" alt = \"cover\"/>\n",
    "\n",
    "([*Source*](https://media-exp1.licdn.com/dms/image/C4E1BAQGf37i29AlqpA/company-background_10000/0/1519797978841?e=2159024400&v=beta&t=pq_e4S0CiEzot02fMRP28sNdyXFtJHWtmkgfHiMse4w))"
   ]
  },
  {
   "cell_type": "markdown",
   "id": "6948662f",
   "metadata": {},
   "source": [
    "## Table of Contents \n",
    "\n",
    "### Author Forenote  \n",
    "\n",
    "### Part 1 (refer to Notebook 1)\n",
    "#### Section 1 (The Data Science Problem)  \n",
    "1.1.1 Background Information on Ames (Iowa, US)  \n",
    "1.1.2 Problem Statement  \n",
    "1.1.3 Model Framework  \n",
    "1.1.4 Additional Research    \n",
    "\n",
    "#### Section 2 (Exploratory Data Analysis)  \n",
    "1.2.1 Preliminary Dataset Inspection  \n",
    "    - Discrete Variables  \n",
    "    - Continuous Variables  \n",
    "    - Ordinal Variables  \n",
    "    - Nominal Variables  \n",
    "1.2.2 Examine Target Variable (Sale Price)  \n",
    "\n",
    "#### Section 3 (Data Cleaning)  \n",
    "1.3.1 Outliers  \n",
    "1.3.2 Missing Values  \n",
    "    - Columns with Over Half Values Missing  \n",
    "    - Lot Frontage  \n",
    "    - Veneer Features  \n",
    "    - Basement Features  \n",
    "    - Fireplace Quality  \n",
    "    - Garage Features  \n",
    "1.3.3 Convert Datatype  \n",
    "\n",
    "#### Part 1 Summary  \n",
    "\n",
    "### Part 2  (refer to Notebook 2)\n",
    "#### Section 1 (Preprocessing)\n",
    "2.1.1 Modal Skewed Features  \n",
    "2.1.2 Score Relevant Features  \n",
    "    - Neighbourhood  \n",
    "    - Zoning  \n",
    "    - Land Contour  \n",
    "2.1.3 Categorize Features     \n",
    "\n",
    "#### Section 2 (Data Visualization & Feature Engineering) \n",
    "2.2.1 Geography   \n",
    "2.2.2 Parcellation   \n",
    "2.2.3 Internal Built Environment   \n",
    "2.2.4 External Built Environment   \n",
    "2.2.5 Miscellaneous   \n",
    "\n",
    "#### Part 2 Summary\n",
    "\n",
    "### [Part 3](#part3) \n",
    "#### [Section 1 (Modelling & Assessment)](#section1)\n",
    "[3.1.1 Establish Baseline Score](#3.1.1)  \n",
    "[3.1.2 Regularization & Model Tuning](#3.1.2)  \n",
    "    [- Ordinary Lease Squares (OLS)](#ols)  \n",
    "    [- Ridge](#ridge)  \n",
    "    [- Lasso](#lasso)  \n",
    "    [- Elastic Net](#enet)  \n",
    "[3.1.3 Model Evaluation & Statistical Inference](#3.1.3)  \n",
    "    [- Model Coefficients](#modelcoefficients)  \n",
    "    [- Model Scores](#modelscores)  \n",
    "[3.1.4 Production Model](#3.1.4)   \n",
    "[3.1.5 Test Dataset Application](#3.1.5)  \n",
    "\n",
    "#### [Section 2 (Recommendations)](#section2)    \n",
    "[3.2.1 Primary Assumptions](#3.2.1)  \n",
    "[3.2.2 Recommendations](#3.2.2)  \n",
    "[3.3.3 Looking Forward](#3.2.3)  \n",
    "\n",
    "### [Conclusion](#conclusion)\n",
    "\n",
    "\n",
    "---"
   ]
  },
  {
   "cell_type": "markdown",
   "id": "ee42be2f",
   "metadata": {},
   "source": [
    "<div id=\"part3\"></div>\n",
    "\n",
    "## Part 3\n",
    "\n",
    "Once again, we reload the relevant libraries and import the engineered dataset from Part 2. At this juncture, it would be prudent to remind ourselves of the problem statement and model framework. As the appointed data scientist for Ames City Council's Planning Division, the task is to develop a regression-based model to predict the sale prices of houses in Ames, Iowa. The intended end-users are primarily the Ames population and prospective individual(s) considering to relocate to Ames. The production model will be built upon a three-prong framework which strives for accuracy (optimized bias), applicability (optimized variance) and accessibility. For accuracy and applicability, the threshold set is a maximum degradation rate of 15% on both R2-scores and RMSE. In terms of accessibility, this was largely already achieved in Part 2.2 (Data Visualization & Feature Engineering) and will be revisited in the concluding section. \n"
   ]
  },
  {
   "cell_type": "code",
   "execution_count": 1,
   "id": "101853df",
   "metadata": {},
   "outputs": [],
   "source": [
    "# Import libraries\n",
    "import numpy as np\n",
    "import pandas as pd\n",
    "import matplotlib.pyplot as plt\n",
    "import seaborn as sns\n",
    "import statistics\n",
    "import statsmodels.api as sm\n",
    "from scipy import stats\n",
    "from scipy.stats import ttest_ind\n",
    "from numpy import array\n",
    "from functools import reduce\n",
    "import math\n",
    "from math import sqrt\n",
    "\n",
    "import sklearn\n",
    "from sklearn.linear_model import LinearRegression, Lasso, LassoCV, Ridge, RidgeCV, ElasticNet, ElasticNetCV\n",
    "from sklearn.preprocessing import LabelEncoder, OrdinalEncoder, OneHotEncoder, PolynomialFeatures, StandardScaler, PowerTransformer\n",
    "from sklearn.model_selection import train_test_split, cross_val_score, cross_val_predict\n",
    "from sklearn import metrics\n",
    "from sklearn.metrics import r2_score, mean_squared_error\n",
    "from sklearn.impute import SimpleImputer, KNNImputer\n",
    "from sklearn.feature_selection import SelectKBest, f_regression\n",
    "\n",
    "%matplotlib inline\n"
   ]
  },
  {
   "cell_type": "code",
   "execution_count": 2,
   "id": "aae61b67",
   "metadata": {},
   "outputs": [],
   "source": [
    "# Import engineered train dataset as pd df\n",
    "train_engineer_df = pd.read_csv(\"../data/train_engineer.csv\")\n"
   ]
  },
  {
   "cell_type": "code",
   "execution_count": 3,
   "id": "0dba8bbb",
   "metadata": {},
   "outputs": [
    {
     "data": {
      "text/html": [
       "<div>\n",
       "<style scoped>\n",
       "    .dataframe tbody tr th:only-of-type {\n",
       "        vertical-align: middle;\n",
       "    }\n",
       "\n",
       "    .dataframe tbody tr th {\n",
       "        vertical-align: top;\n",
       "    }\n",
       "\n",
       "    .dataframe thead th {\n",
       "        text-align: right;\n",
       "    }\n",
       "</style>\n",
       "<table border=\"1\" class=\"dataframe\">\n",
       "  <thead>\n",
       "    <tr style=\"text-align: right;\">\n",
       "      <th></th>\n",
       "      <th>id</th>\n",
       "      <th>pid</th>\n",
       "      <th>saleprice</th>\n",
       "      <th>log_saleprice</th>\n",
       "      <th>neighborhood</th>\n",
       "      <th>overall_qual</th>\n",
       "      <th>ms_zoning</th>\n",
       "      <th>ms_subclass_60_house_style_2Story</th>\n",
       "      <th>lot_area</th>\n",
       "      <th>lot_shape</th>\n",
       "      <th>lot_frontage</th>\n",
       "      <th>paved_drive</th>\n",
       "      <th>gr_liv_area</th>\n",
       "      <th>totrms_abvgrd</th>\n",
       "      <th>kitchen_qual</th>\n",
       "      <th>fireplaces</th>\n",
       "      <th>fireplace_qu</th>\n",
       "      <th>abv_grd_sf</th>\n",
       "      <th>total_bath</th>\n",
       "      <th>below_grd_sf</th>\n",
       "      <th>overall_bsmt_score</th>\n",
       "      <th>exter_qual</th>\n",
       "      <th>total_outdoor_area</th>\n",
       "      <th>garage_cars</th>\n",
       "      <th>overall_garage_score</th>\n",
       "      <th>foundation_PConc</th>\n",
       "      <th>garage_type_Attchd</th>\n",
       "      <th>garage_type_Detchd</th>\n",
       "      <th>roof_style_Hip</th>\n",
       "      <th>exterior_1st_VinylSd</th>\n",
       "      <th>mas_vnr_type_None</th>\n",
       "      <th>age</th>\n",
       "      <th>electrical</th>\n",
       "      <th>sale_type_New</th>\n",
       "    </tr>\n",
       "  </thead>\n",
       "  <tbody>\n",
       "    <tr>\n",
       "      <th>0</th>\n",
       "      <td>109</td>\n",
       "      <td>533352170</td>\n",
       "      <td>130500</td>\n",
       "      <td>11.779129</td>\n",
       "      <td>2</td>\n",
       "      <td>6</td>\n",
       "      <td>3</td>\n",
       "      <td>1</td>\n",
       "      <td>13517</td>\n",
       "      <td>2</td>\n",
       "      <td>60.0</td>\n",
       "      <td>2</td>\n",
       "      <td>1479</td>\n",
       "      <td>6</td>\n",
       "      <td>3</td>\n",
       "      <td>0</td>\n",
       "      <td>0</td>\n",
       "      <td>1479</td>\n",
       "      <td>3</td>\n",
       "      <td>1258.0</td>\n",
       "      <td>10</td>\n",
       "      <td>3</td>\n",
       "      <td>808.0</td>\n",
       "      <td>2</td>\n",
       "      <td>8</td>\n",
       "      <td>0</td>\n",
       "      <td>1</td>\n",
       "      <td>0</td>\n",
       "      <td>0</td>\n",
       "      <td>0</td>\n",
       "      <td>0</td>\n",
       "      <td>5</td>\n",
       "      <td>4</td>\n",
       "      <td>0</td>\n",
       "    </tr>\n",
       "    <tr>\n",
       "      <th>1</th>\n",
       "      <td>544</td>\n",
       "      <td>531379050</td>\n",
       "      <td>220000</td>\n",
       "      <td>12.301383</td>\n",
       "      <td>2</td>\n",
       "      <td>7</td>\n",
       "      <td>3</td>\n",
       "      <td>1</td>\n",
       "      <td>11492</td>\n",
       "      <td>2</td>\n",
       "      <td>43.0</td>\n",
       "      <td>2</td>\n",
       "      <td>2122</td>\n",
       "      <td>8</td>\n",
       "      <td>3</td>\n",
       "      <td>1</td>\n",
       "      <td>3</td>\n",
       "      <td>2122</td>\n",
       "      <td>4</td>\n",
       "      <td>1550.0</td>\n",
       "      <td>11</td>\n",
       "      <td>3</td>\n",
       "      <td>765.0</td>\n",
       "      <td>2</td>\n",
       "      <td>8</td>\n",
       "      <td>1</td>\n",
       "      <td>1</td>\n",
       "      <td>0</td>\n",
       "      <td>0</td>\n",
       "      <td>1</td>\n",
       "      <td>0</td>\n",
       "      <td>12</td>\n",
       "      <td>4</td>\n",
       "      <td>0</td>\n",
       "    </tr>\n",
       "    <tr>\n",
       "      <th>2</th>\n",
       "      <td>153</td>\n",
       "      <td>535304180</td>\n",
       "      <td>109000</td>\n",
       "      <td>11.599103</td>\n",
       "      <td>2</td>\n",
       "      <td>5</td>\n",
       "      <td>3</td>\n",
       "      <td>0</td>\n",
       "      <td>7922</td>\n",
       "      <td>3</td>\n",
       "      <td>68.0</td>\n",
       "      <td>2</td>\n",
       "      <td>1057</td>\n",
       "      <td>5</td>\n",
       "      <td>3</td>\n",
       "      <td>0</td>\n",
       "      <td>0</td>\n",
       "      <td>1057</td>\n",
       "      <td>2</td>\n",
       "      <td>1788.0</td>\n",
       "      <td>10</td>\n",
       "      <td>2</td>\n",
       "      <td>298.0</td>\n",
       "      <td>1</td>\n",
       "      <td>7</td>\n",
       "      <td>0</td>\n",
       "      <td>0</td>\n",
       "      <td>1</td>\n",
       "      <td>0</td>\n",
       "      <td>1</td>\n",
       "      <td>1</td>\n",
       "      <td>3</td>\n",
       "      <td>4</td>\n",
       "      <td>0</td>\n",
       "    </tr>\n",
       "    <tr>\n",
       "      <th>3</th>\n",
       "      <td>318</td>\n",
       "      <td>916386060</td>\n",
       "      <td>174000</td>\n",
       "      <td>12.066811</td>\n",
       "      <td>4</td>\n",
       "      <td>5</td>\n",
       "      <td>3</td>\n",
       "      <td>1</td>\n",
       "      <td>9802</td>\n",
       "      <td>3</td>\n",
       "      <td>73.0</td>\n",
       "      <td>2</td>\n",
       "      <td>1444</td>\n",
       "      <td>7</td>\n",
       "      <td>2</td>\n",
       "      <td>0</td>\n",
       "      <td>0</td>\n",
       "      <td>1444</td>\n",
       "      <td>3</td>\n",
       "      <td>384.0</td>\n",
       "      <td>6</td>\n",
       "      <td>2</td>\n",
       "      <td>500.0</td>\n",
       "      <td>2</td>\n",
       "      <td>9</td>\n",
       "      <td>1</td>\n",
       "      <td>0</td>\n",
       "      <td>0</td>\n",
       "      <td>0</td>\n",
       "      <td>1</td>\n",
       "      <td>1</td>\n",
       "      <td>3</td>\n",
       "      <td>4</td>\n",
       "      <td>0</td>\n",
       "    </tr>\n",
       "    <tr>\n",
       "      <th>4</th>\n",
       "      <td>255</td>\n",
       "      <td>906425045</td>\n",
       "      <td>138500</td>\n",
       "      <td>11.838626</td>\n",
       "      <td>2</td>\n",
       "      <td>6</td>\n",
       "      <td>3</td>\n",
       "      <td>0</td>\n",
       "      <td>14235</td>\n",
       "      <td>2</td>\n",
       "      <td>82.0</td>\n",
       "      <td>0</td>\n",
       "      <td>1445</td>\n",
       "      <td>6</td>\n",
       "      <td>2</td>\n",
       "      <td>0</td>\n",
       "      <td>0</td>\n",
       "      <td>1445</td>\n",
       "      <td>2</td>\n",
       "      <td>676.0</td>\n",
       "      <td>4</td>\n",
       "      <td>2</td>\n",
       "      <td>543.0</td>\n",
       "      <td>2</td>\n",
       "      <td>7</td>\n",
       "      <td>1</td>\n",
       "      <td>0</td>\n",
       "      <td>1</td>\n",
       "      <td>0</td>\n",
       "      <td>0</td>\n",
       "      <td>1</td>\n",
       "      <td>17</td>\n",
       "      <td>4</td>\n",
       "      <td>0</td>\n",
       "    </tr>\n",
       "  </tbody>\n",
       "</table>\n",
       "</div>"
      ],
      "text/plain": [
       "    id        pid  saleprice  log_saleprice  neighborhood  overall_qual  \\\n",
       "0  109  533352170     130500      11.779129             2             6   \n",
       "1  544  531379050     220000      12.301383             2             7   \n",
       "2  153  535304180     109000      11.599103             2             5   \n",
       "3  318  916386060     174000      12.066811             4             5   \n",
       "4  255  906425045     138500      11.838626             2             6   \n",
       "\n",
       "   ms_zoning  ms_subclass_60_house_style_2Story  lot_area  lot_shape  \\\n",
       "0          3                                  1     13517          2   \n",
       "1          3                                  1     11492          2   \n",
       "2          3                                  0      7922          3   \n",
       "3          3                                  1      9802          3   \n",
       "4          3                                  0     14235          2   \n",
       "\n",
       "   lot_frontage  paved_drive  gr_liv_area  totrms_abvgrd  kitchen_qual  \\\n",
       "0          60.0            2         1479              6             3   \n",
       "1          43.0            2         2122              8             3   \n",
       "2          68.0            2         1057              5             3   \n",
       "3          73.0            2         1444              7             2   \n",
       "4          82.0            0         1445              6             2   \n",
       "\n",
       "   fireplaces  fireplace_qu  abv_grd_sf  total_bath  below_grd_sf  \\\n",
       "0           0             0        1479           3        1258.0   \n",
       "1           1             3        2122           4        1550.0   \n",
       "2           0             0        1057           2        1788.0   \n",
       "3           0             0        1444           3         384.0   \n",
       "4           0             0        1445           2         676.0   \n",
       "\n",
       "   overall_bsmt_score  exter_qual  total_outdoor_area  garage_cars  \\\n",
       "0                  10           3               808.0            2   \n",
       "1                  11           3               765.0            2   \n",
       "2                  10           2               298.0            1   \n",
       "3                   6           2               500.0            2   \n",
       "4                   4           2               543.0            2   \n",
       "\n",
       "   overall_garage_score  foundation_PConc  garage_type_Attchd  \\\n",
       "0                     8                 0                   1   \n",
       "1                     8                 1                   1   \n",
       "2                     7                 0                   0   \n",
       "3                     9                 1                   0   \n",
       "4                     7                 1                   0   \n",
       "\n",
       "   garage_type_Detchd  roof_style_Hip  exterior_1st_VinylSd  \\\n",
       "0                   0               0                     0   \n",
       "1                   0               0                     1   \n",
       "2                   1               0                     1   \n",
       "3                   0               0                     1   \n",
       "4                   1               0                     0   \n",
       "\n",
       "   mas_vnr_type_None  age  electrical  sale_type_New  \n",
       "0                  0    5           4              0  \n",
       "1                  0   12           4              0  \n",
       "2                  1    3           4              0  \n",
       "3                  1    3           4              0  \n",
       "4                  1   17           4              0  "
      ]
     },
     "execution_count": 3,
     "metadata": {},
     "output_type": "execute_result"
    }
   ],
   "source": [
    "# Quick check on engineered dataset \n",
    "pd.set_option('display.max_columns', None)\n",
    "train_engineer_df.head() # No issues with features, to drop Id, Pid, Saleprce\n"
   ]
  },
  {
   "cell_type": "code",
   "execution_count": 4,
   "id": "1d1e8844",
   "metadata": {},
   "outputs": [],
   "source": [
    "train_engineer_df.drop(columns = ['id', 'pid', 'saleprice'], inplace = True)\n"
   ]
  },
  {
   "cell_type": "markdown",
   "id": "3390c132",
   "metadata": {},
   "source": [
    "<div id=\"section1\"></div>\n",
    "\n",
    "### Section 1 (Modelling & Assessment)\n",
    "\n",
    "Adapting [*Alvin's (2019) scoring matrices*](https://github.com/at-tan/Cracking_Ames_Housing_OLS/blob/master/Ames_regression.ipynb), we create custom functions to calculate the following scores in determining the production model:  \n",
    "- Train R2 Score (ratio): Value indicates the proportion of target variables (housing prices) in the train set which can be explained by the adopted model. Measures the correlation strength between predictor and target variables. However, it does not account/explain overfitting. \n",
    "- Train Cross-validation Scores (ratios): Similar to Training R2 Score with the key difference being the application of cross-validation on the train set, hence returning multiple R2-values for each respective fold. \n",
    "- Train Cross-validation Mean Score (ratio): A R2-value derived by aggregating Training Cross-Validation Scores over the number of folds, which gives an overall averaged out R2 score for the train set. \n",
    "- Train Cross-val RMSE Score: An absolute means to measure goodness of fit by computing the average of the summation of squared residuals, calculated by applying the cross-validation score above to the train dataset. This metric shows the degree of deviation between predicted and target values. \n",
    "- Test R2 Score (original unit, USD): R2-value for the test set; similar in principle to Train R2 Score. \n",
    "- Test RMSE Score (original unit, USD): The subject model applied to the test set in determining the degree of deviation betweeen predicted and target housing sale prices. **This score will be prioritized based on the requirements of the project.**\n"
   ]
  },
  {
   "cell_type": "code",
   "execution_count": 5,
   "id": "f9d5408b",
   "metadata": {},
   "outputs": [],
   "source": [
    "# Function for scoring training set\n",
    "def train_scores(model, X_train, y_train):\n",
    "\n",
    "    cv_scores = cross_val_score(model, X_train, y_train, cv = 10) # 10-fold cross-validation\n",
    "\n",
    "    print('Train R2 Score:', np.round(model.score(X_train, y_train), 4))\n",
    "    print('Train Cross-validation Scores:', np.round(cv_scores, 4))\n",
    "    print('Train Mean Cross-validation Score:', np.round(cv_scores.mean(), 4))\n",
    "    print('Train Cross-val RMSE Score:', abs(cross_val_score(model, X_train, np.exp(y_train), cv = 10, scoring = \"neg_root_mean_squared_error\").mean()))\n",
    "    "
   ]
  },
  {
   "cell_type": "code",
   "execution_count": 6,
   "id": "11634032",
   "metadata": {},
   "outputs": [],
   "source": [
    "# Function for scoring test set\n",
    "def test_scores(model, X_test, y_test):\n",
    "\n",
    "    pred = model.predict(X_test)\n",
    "\n",
    "    print('Test R2 Score:', np.round(model.score(X_test, y_test), 4))\n",
    "    print('Test RMSE Score:', np.round((metrics.mean_squared_error(np.exp(y_test), np.exp(pred), squared = False)), 4)) \n",
    "    "
   ]
  },
  {
   "cell_type": "markdown",
   "id": "bbf5ab0b",
   "metadata": {},
   "source": [
    "Next, we set up the predictor features (X) and target variable (y) for modelling: "
   ]
  },
  {
   "cell_type": "code",
   "execution_count": 7,
   "id": "3462fa0f",
   "metadata": {},
   "outputs": [],
   "source": [
    "# Define X (predictor variables) and y (target variable)\n",
    "predictors = [col for col in train_engineer_df._get_numeric_data().columns if col != 'log_saleprice']\n",
    "\n",
    "X = train_engineer_df[predictors]\n",
    "y = train_engineer_df['log_saleprice']\n"
   ]
  },
  {
   "cell_type": "code",
   "execution_count": 8,
   "id": "05bd59f5",
   "metadata": {},
   "outputs": [
    {
     "name": "stdout",
     "output_type": "stream",
     "text": [
      "<class 'pandas.core.frame.DataFrame'>\n",
      "RangeIndex: 2047 entries, 0 to 2046\n",
      "Data columns (total 30 columns):\n",
      " #   Column                             Non-Null Count  Dtype  \n",
      "---  ------                             --------------  -----  \n",
      " 0   neighborhood                       2047 non-null   int64  \n",
      " 1   overall_qual                       2047 non-null   int64  \n",
      " 2   ms_zoning                          2047 non-null   int64  \n",
      " 3   ms_subclass_60_house_style_2Story  2047 non-null   int64  \n",
      " 4   lot_area                           2047 non-null   int64  \n",
      " 5   lot_shape                          2047 non-null   int64  \n",
      " 6   lot_frontage                       2047 non-null   float64\n",
      " 7   paved_drive                        2047 non-null   int64  \n",
      " 8   gr_liv_area                        2047 non-null   int64  \n",
      " 9   totrms_abvgrd                      2047 non-null   int64  \n",
      " 10  kitchen_qual                       2047 non-null   int64  \n",
      " 11  fireplaces                         2047 non-null   int64  \n",
      " 12  fireplace_qu                       2047 non-null   int64  \n",
      " 13  abv_grd_sf                         2047 non-null   int64  \n",
      " 14  total_bath                         2047 non-null   int64  \n",
      " 15  below_grd_sf                       2047 non-null   float64\n",
      " 16  overall_bsmt_score                 2047 non-null   int64  \n",
      " 17  exter_qual                         2047 non-null   int64  \n",
      " 18  total_outdoor_area                 2047 non-null   float64\n",
      " 19  garage_cars                        2047 non-null   int64  \n",
      " 20  overall_garage_score               2047 non-null   int64  \n",
      " 21  foundation_PConc                   2047 non-null   int64  \n",
      " 22  garage_type_Attchd                 2047 non-null   int64  \n",
      " 23  garage_type_Detchd                 2047 non-null   int64  \n",
      " 24  roof_style_Hip                     2047 non-null   int64  \n",
      " 25  exterior_1st_VinylSd               2047 non-null   int64  \n",
      " 26  mas_vnr_type_None                  2047 non-null   int64  \n",
      " 27  age                                2047 non-null   int64  \n",
      " 28  electrical                         2047 non-null   int64  \n",
      " 29  sale_type_New                      2047 non-null   int64  \n",
      "dtypes: float64(3), int64(27)\n",
      "memory usage: 479.9 KB\n"
     ]
    }
   ],
   "source": [
    "X.info() # Correct features and feature count\n",
    "# Double checked no null values and datatype is correct"
   ]
  },
  {
   "cell_type": "code",
   "execution_count": 9,
   "id": "a9f00ee3",
   "metadata": {},
   "outputs": [],
   "source": [
    "# Define X and y train/test \n",
    "X_train, X_test, y_train, y_test = train_test_split(X, y, test_size = 0.2, random_state = 42)\n"
   ]
  },
  {
   "cell_type": "code",
   "execution_count": 10,
   "id": "60123f3d",
   "metadata": {},
   "outputs": [
    {
     "data": {
      "text/plain": [
       "(1637, 30)"
      ]
     },
     "execution_count": 10,
     "metadata": {},
     "output_type": "execute_result"
    }
   ],
   "source": [
    "X_train.shape\n"
   ]
  },
  {
   "cell_type": "code",
   "execution_count": 11,
   "id": "6c3d49ef",
   "metadata": {},
   "outputs": [],
   "source": [
    "# Scale train/test sets\n",
    "ss = StandardScaler()\n",
    "ss.fit(X_train)\n",
    "X_train = pd.DataFrame(ss.fit_transform(X_train), columns = X_train.columns)\n",
    "X_test = pd.DataFrame(ss.transform(X_test), columns = X_test.columns)\n"
   ]
  },
  {
   "cell_type": "code",
   "execution_count": 12,
   "id": "c43bd1ff",
   "metadata": {},
   "outputs": [
    {
     "name": "stdout",
     "output_type": "stream",
     "text": [
      "X_train shape is: (1637, 30)\n",
      "y_train shape is: (1637,)\n",
      "X_test shape is: (410, 30)\n",
      "y_test shape is: (410,)\n"
     ]
    }
   ],
   "source": [
    "print(f'X_train shape is: {X_train.shape}')\n",
    "print(f'y_train shape is: {y_train.shape}')\n",
    "print(f'X_test shape is: {X_test.shape}')\n",
    "print(f'y_test shape is: {y_test.shape}')\n",
    "\n",
    "# Train sets have same row counts, test sets have same row counts. X (predictor variables) have the same column count. "
   ]
  },
  {
   "cell_type": "markdown",
   "id": "10155d54",
   "metadata": {},
   "source": [
    "<div id=\"3.1.1\"></div>\n",
    "\n",
    "#### 3.1.1 Establish Baseline Score\n",
    "\n",
    "A baseline RMSE score is established solely for the purpose of setting a bare minimum benchmark, derived purely by taking the mean of Ames housing sale prices across the study period. "
   ]
  },
  {
   "cell_type": "code",
   "execution_count": 13,
   "id": "40733280",
   "metadata": {},
   "outputs": [],
   "source": [
    "# Populate array with average sale price from train set\n",
    "base_train = []\n",
    "\n",
    "for i in y_train:\n",
    "    base_train.append(train_engineer_df['log_saleprice'].mean())\n"
   ]
  },
  {
   "cell_type": "code",
   "execution_count": 14,
   "id": "1770b800",
   "metadata": {},
   "outputs": [
    {
     "data": {
      "text/plain": [
       "81430.44014880777"
      ]
     },
     "execution_count": 14,
     "metadata": {},
     "output_type": "execute_result"
    }
   ],
   "source": [
    "# Baseline RMSE training score\n",
    "metrics.mean_squared_error(np.exp(y_train), np.exp(base_train), squared = False)\n",
    "                           "
   ]
  },
  {
   "cell_type": "code",
   "execution_count": 15,
   "id": "ccb4a305",
   "metadata": {},
   "outputs": [],
   "source": [
    "# Populate array with average sale price from test set\n",
    "base_test = []\n",
    "\n",
    "for i in y_test:\n",
    "    base_test.append(train_engineer_df['log_saleprice'].mean())\n",
    "    "
   ]
  },
  {
   "cell_type": "code",
   "execution_count": 16,
   "id": "6e0c321e",
   "metadata": {},
   "outputs": [
    {
     "data": {
      "text/plain": [
       "77159.25342065796"
      ]
     },
     "execution_count": 16,
     "metadata": {},
     "output_type": "execute_result"
    }
   ],
   "source": [
    "# Baseline RMSE test score\n",
    "metrics.mean_squared_error(np.exp(y_test), np.exp(base_test), squared = False)\n"
   ]
  },
  {
   "cell_type": "markdown",
   "id": "acda4282",
   "metadata": {},
   "source": [
    "While this drastically unreliable baseline score would not be included in the model assessment, it provides the basis for the immediate dropping of any models with higher RMSE scores. \n"
   ]
  },
  {
   "cell_type": "markdown",
   "id": "00e99208",
   "metadata": {},
   "source": [
    "<div id=\"3.1.2\"></div>\n",
    "\n",
    "#### 3.1.2 Regularization & Model Tuning\n",
    "\n",
    "The project considers four models, beginning with the base model (Ordinary Least Squares) followed by applying regularizations (Ridge, Lasso, Elastic Net). During which, tuning in the form of dropping features with potential intercollinearity will be carried out in a bid to refine the production model. \n"
   ]
  },
  {
   "cell_type": "markdown",
   "id": "0ce3a44f",
   "metadata": {},
   "source": [
    "<div id=\"ols\"></div>\n",
    "\n",
    "##### Ordinary Least Squares (OLS)"
   ]
  },
  {
   "cell_type": "code",
   "execution_count": 17,
   "id": "63cab923",
   "metadata": {},
   "outputs": [
    {
     "data": {
      "text/plain": [
       "LinearRegression()"
      ]
     },
     "execution_count": 17,
     "metadata": {},
     "output_type": "execute_result"
    }
   ],
   "source": [
    "# Instantiate OLS model\n",
    "lr = LinearRegression()\n",
    "lr.fit(X_train, y_train)\n"
   ]
  },
  {
   "cell_type": "code",
   "execution_count": 18,
   "id": "f2e77c70",
   "metadata": {},
   "outputs": [
    {
     "name": "stdout",
     "output_type": "stream",
     "text": [
      "Train R2 Score: 0.9059\n",
      "Train Cross-validation Scores: [0.9105 0.9    0.9048 0.8765 0.8484 0.9336 0.9204 0.9016 0.9007 0.9174]\n",
      "Train Mean Cross-validation Score: 0.9014\n",
      "Train Cross-val RMSE Score: 26347.753682862538\n"
     ]
    }
   ],
   "source": [
    "# Calculate OLS model train scores\n",
    "train_scores(lr, X_train, y_train)\n"
   ]
  },
  {
   "cell_type": "code",
   "execution_count": 19,
   "id": "8ae78cba",
   "metadata": {},
   "outputs": [
    {
     "name": "stdout",
     "output_type": "stream",
     "text": [
      "Test R2 Score: 0.8568\n",
      "Test RMSE Score: 20558.4917\n"
     ]
    }
   ],
   "source": [
    "# Calculate OLS model test scores \n",
    "test_scores(lr, X_test, y_test)\n"
   ]
  },
  {
   "cell_type": "markdown",
   "id": "55343166",
   "metadata": {},
   "source": [
    "Based on the substnatial difference between train cross-val RMSE and test RMSE of about USD6,000, it suggest the possibility of overfitting due to multicollinearity. Hence, intercorrelated features surfaced during engineering  in Part 2 Section 2 will be dropped and OLS rerunned to test for improvement. \n"
   ]
  },
  {
   "cell_type": "code",
   "execution_count": 20,
   "id": "a6dd3216",
   "metadata": {},
   "outputs": [],
   "source": [
    "# Drop garage cars and gross living area\n",
    "train_engineer_df.drop(columns = ['gr_liv_area', 'garage_cars'], inplace = True)\n"
   ]
  },
  {
   "cell_type": "code",
   "execution_count": 21,
   "id": "54c99aa0",
   "metadata": {},
   "outputs": [
    {
     "data": {
      "text/plain": [
       "LinearRegression()"
      ]
     },
     "execution_count": 21,
     "metadata": {},
     "output_type": "execute_result"
    }
   ],
   "source": [
    "# Rerun OLS model\n",
    "predictors = [col for col in train_engineer_df._get_numeric_data().columns if col != 'log_saleprice']\n",
    "\n",
    "X = train_engineer_df[predictors]\n",
    "y = train_engineer_df['log_saleprice']\n",
    "\n",
    "X_train, X_test, y_train, y_test = train_test_split(X, y, test_size = 0.2, random_state = 42)\n",
    "\n",
    "ss = StandardScaler()\n",
    "ss.fit(X_train)\n",
    "X_train = pd.DataFrame(ss.fit_transform(X_train), columns = X_train.columns)\n",
    "X_test = pd.DataFrame(ss.transform(X_test), columns = X_test.columns)\n",
    "\n",
    "lr = LinearRegression()\n",
    "lr.fit(X_train, y_train)\n"
   ]
  },
  {
   "cell_type": "code",
   "execution_count": 22,
   "id": "4d94948f",
   "metadata": {},
   "outputs": [
    {
     "name": "stdout",
     "output_type": "stream",
     "text": [
      "Train R2 Score: 0.9057\n",
      "Train Cross-validation Scores: [0.9113 0.9004 0.9049 0.8766 0.8475 0.9353 0.9193 0.9016 0.9003 0.9172]\n",
      "Train Mean Cross-validation Score: 0.9014\n",
      "Train Cross-val RMSE Score: 26351.959717870417\n"
     ]
    }
   ],
   "source": [
    "# Calculate new OLS model train scores\n",
    "train_scores(lr, X_train, y_train)\n"
   ]
  },
  {
   "cell_type": "code",
   "execution_count": 23,
   "id": "09d3e8a1",
   "metadata": {},
   "outputs": [
    {
     "name": "stdout",
     "output_type": "stream",
     "text": [
      "Test R2 Score: 0.857\n",
      "Test RMSE Score: 20504.0885\n"
     ]
    }
   ],
   "source": [
    "# Calculate new OLD model test scores\n",
    "test_scores(lr, X_test, y_test)\n"
   ]
  },
  {
   "cell_type": "markdown",
   "id": "322fcfcb",
   "metadata": {},
   "source": [
    "An improvement is noticed for the R2-scores and test RMSE (albeit only marginal) while the cross-val RMSE declined slightly. Still, as the test RMSE is the primary focus, we will proceed with this narrowed set of predictors. \n"
   ]
  },
  {
   "cell_type": "code",
   "execution_count": 24,
   "id": "d3e4802b",
   "metadata": {},
   "outputs": [],
   "source": [
    "# Store coefficients for model evaluation\n",
    "ols_coef_df = pd.DataFrame(lr.coef_, index = X_train.columns, columns = ['Coefficients'])\n",
    "ols_coef_df['Coef_abs'] = ols_coef_df.Coefficients.abs()\n"
   ]
  },
  {
   "cell_type": "markdown",
   "id": "e81558e1",
   "metadata": {},
   "source": [
    "<div id=\"ridge\"></div>\n",
    "\n",
    "##### Ridge"
   ]
  },
  {
   "cell_type": "code",
   "execution_count": 25,
   "id": "ce21cc42",
   "metadata": {},
   "outputs": [
    {
     "name": "stdout",
     "output_type": "stream",
     "text": [
      "27.049597304631355\n"
     ]
    }
   ],
   "source": [
    "# Calculate optimal alpha for ridge regularization\n",
    "ridge_alphas = np.logspace(0, 5, 200)\n",
    "optimal_ridge = RidgeCV(alphas = ridge_alphas, cv = 10)\n",
    "optimal_ridge.fit(X_train, y_train)\n",
    "print(optimal_ridge.alpha_)\n"
   ]
  },
  {
   "cell_type": "code",
   "execution_count": 26,
   "id": "50c38f9f",
   "metadata": {},
   "outputs": [
    {
     "data": {
      "text/plain": [
       "Ridge(alpha=27.049597304631355)"
      ]
     },
     "execution_count": 26,
     "metadata": {},
     "output_type": "execute_result"
    }
   ],
   "source": [
    "# Instantiate ridge model\n",
    "ridge = Ridge(alpha = optimal_ridge.alpha_)\n",
    "ridge.fit(X_train, y_train)\n"
   ]
  },
  {
   "cell_type": "code",
   "execution_count": 27,
   "id": "fc223e0e",
   "metadata": {},
   "outputs": [
    {
     "name": "stdout",
     "output_type": "stream",
     "text": [
      "Train R2 Score: 0.9057\n",
      "Train Cross-validation Scores: [0.9124 0.8999 0.9048 0.8778 0.8477 0.9348 0.9198 0.9017 0.9    0.9165]\n",
      "Train Mean Cross-validation Score: 0.9015\n",
      "Train Cross-val RMSE Score: 26336.98193062332\n"
     ]
    }
   ],
   "source": [
    "# Calculate ridge model train scores\n",
    "train_scores(ridge, X_train, y_train)\n"
   ]
  },
  {
   "cell_type": "code",
   "execution_count": 28,
   "id": "27b5cec1",
   "metadata": {},
   "outputs": [
    {
     "name": "stdout",
     "output_type": "stream",
     "text": [
      "Test R2 Score: 0.8571\n",
      "Test RMSE Score: 20458.6934\n"
     ]
    }
   ],
   "source": [
    "# Calculate ridge model test scores\n",
    "test_scores(ridge, X_test, y_test)\n"
   ]
  },
  {
   "cell_type": "code",
   "execution_count": 29,
   "id": "f6379b7c",
   "metadata": {},
   "outputs": [],
   "source": [
    "# Store coefficients for model evaluation\n",
    "ridge_coef_df = pd.DataFrame(ridge.coef_, index = X_train.columns, columns = ['Coefficients'])\n",
    "ridge_coef_df['Coef_abs'] = ridge_coef_df.Coefficients.abs()\n"
   ]
  },
  {
   "cell_type": "markdown",
   "id": "41e4a7d7",
   "metadata": {},
   "source": [
    "<div id=\"lasso\"></div>\n",
    "\n",
    "##### Lasso"
   ]
  },
  {
   "cell_type": "code",
   "execution_count": 30,
   "id": "f521473b",
   "metadata": {},
   "outputs": [
    {
     "name": "stdout",
     "output_type": "stream",
     "text": [
      "0.0010056791410444168\n"
     ]
    }
   ],
   "source": [
    "# Calculate optimal alpha for lasso regularization\n",
    "optimal_lasso = LassoCV(n_alphas = 500, cv = 10)\n",
    "optimal_lasso.fit(X_train, y_train)\n",
    "print(optimal_lasso.alpha_)\n"
   ]
  },
  {
   "cell_type": "code",
   "execution_count": 31,
   "id": "1082a3d2",
   "metadata": {},
   "outputs": [
    {
     "data": {
      "text/plain": [
       "Lasso(alpha=0.0010056791410444168)"
      ]
     },
     "execution_count": 31,
     "metadata": {},
     "output_type": "execute_result"
    }
   ],
   "source": [
    "# Instantiate lasso model\n",
    "lasso = Lasso(alpha = optimal_lasso.alpha_)\n",
    "lasso.fit(X_train, y_train)\n"
   ]
  },
  {
   "cell_type": "code",
   "execution_count": 32,
   "id": "a9d5ca03",
   "metadata": {},
   "outputs": [
    {
     "name": "stdout",
     "output_type": "stream",
     "text": [
      "Train R2 Score: 0.9056\n",
      "Train Cross-validation Scores: [0.9114 0.9007 0.9043 0.8785 0.8467 0.9355 0.9197 0.9015 0.9002 0.9181]\n",
      "Train Mean Cross-validation Score: 0.9017\n",
      "Train Cross-val RMSE Score: 26351.959331050377\n"
     ]
    }
   ],
   "source": [
    "# Calculate lasso model train scores\n",
    "train_scores(lasso, X_train, y_train)\n"
   ]
  },
  {
   "cell_type": "code",
   "execution_count": 33,
   "id": "087e3e33",
   "metadata": {},
   "outputs": [
    {
     "name": "stdout",
     "output_type": "stream",
     "text": [
      "Test R2 Score: 0.8577\n",
      "Test RMSE Score: 20452.2196\n"
     ]
    }
   ],
   "source": [
    "# Calculate lasso model train scores\n",
    "test_scores(lasso, X_test, y_test)\n"
   ]
  },
  {
   "cell_type": "code",
   "execution_count": 34,
   "id": "e5fb70c8",
   "metadata": {},
   "outputs": [],
   "source": [
    "# Store coefficients for model evaluation\n",
    "lasso_coef_df = pd.DataFrame(lasso.coef_, index = X_train.columns, columns = ['Coefficients'])\n",
    "lasso_coef_df['Coef_abs'] = lasso_coef_df.Coefficients.abs()\n"
   ]
  },
  {
   "cell_type": "markdown",
   "id": "ca5cc5b9",
   "metadata": {},
   "source": [
    "<div id=\"enet\"></div>\n",
    "\n",
    "##### Elastic Net"
   ]
  },
  {
   "cell_type": "code",
   "execution_count": 35,
   "id": "d0d53ba2",
   "metadata": {},
   "outputs": [
    {
     "name": "stdout",
     "output_type": "stream",
     "text": [
      "0.0112779020614357\n",
      "0.0925\n"
     ]
    }
   ],
   "source": [
    "# Calculate optimal l1 ratio (for lasso component) and alpha (for ridge component) for lasso model\n",
    "l1_ratios = np.linspace(0.01, 1.0, 25)\n",
    "optimal_enet = ElasticNetCV(l1_ratio = l1_ratios, n_alphas = 100, cv = 10)\n",
    "optimal_enet.fit(X_train, y_train)\n",
    "print(optimal_enet.alpha_)\n",
    "print(optimal_enet.l1_ratio_)\n"
   ]
  },
  {
   "cell_type": "code",
   "execution_count": 36,
   "id": "763e1a9e",
   "metadata": {
    "scrolled": true
   },
   "outputs": [
    {
     "data": {
      "text/plain": [
       "ElasticNet(alpha=0.0112779020614357, l1_ratio=0.0925)"
      ]
     },
     "execution_count": 36,
     "metadata": {},
     "output_type": "execute_result"
    }
   ],
   "source": [
    "# Instantiate enet model\n",
    "enet = ElasticNet(alpha = optimal_enet.alpha_, l1_ratio = optimal_enet.l1_ratio_)\n",
    "enet.fit(X_train, y_train)\n"
   ]
  },
  {
   "cell_type": "code",
   "execution_count": 37,
   "id": "355d8c7a",
   "metadata": {},
   "outputs": [
    {
     "name": "stdout",
     "output_type": "stream",
     "text": [
      "Train R2 Score: 0.9056\n",
      "Train Cross-validation Scores: [0.9121 0.9005 0.9041 0.8791 0.8468 0.9352 0.92   0.9013 0.9001 0.9177]\n",
      "Train Mean Cross-validation Score: 0.9017\n",
      "Train Cross-val RMSE Score: 26339.837493363284\n"
     ]
    }
   ],
   "source": [
    "# Calculate enet model train scores\n",
    "train_scores(enet, X_train, y_train)\n"
   ]
  },
  {
   "cell_type": "code",
   "execution_count": 38,
   "id": "a0ee1455",
   "metadata": {},
   "outputs": [
    {
     "name": "stdout",
     "output_type": "stream",
     "text": [
      "Test R2 Score: 0.8578\n",
      "Test RMSE Score: 20421.308\n"
     ]
    }
   ],
   "source": [
    "# Calculate enet model test scores\n",
    "test_scores(enet, X_test, y_test)\n"
   ]
  },
  {
   "cell_type": "code",
   "execution_count": 39,
   "id": "d20c95f3",
   "metadata": {},
   "outputs": [],
   "source": [
    "# Store coefficients for model evaluation\n",
    "enet_coef_df = pd.DataFrame(enet.coef_, index = X_train.columns, columns = ['Coefficients'])\n",
    "enet_coef_df['Coef_abs'] = enet_coef_df.Coefficients.abs()\n"
   ]
  },
  {
   "cell_type": "markdown",
   "id": "a35ecabb",
   "metadata": {},
   "source": [
    "<div id=\"3.1.3\"></div>\n",
    "\n",
    "#### 3.1.3 Model Evaluation\n",
    "\n",
    "Having developed four possible models, we relationally evaluate the models in selecting a model to predict the test dataset. \n",
    "<div id=\"modelcoefficients\"></div>\n",
    "\n",
    "##### Model Coefficients"
   ]
  },
  {
   "cell_type": "code",
   "execution_count": 40,
   "id": "e05aa700",
   "metadata": {},
   "outputs": [],
   "source": [
    "# Creating dataframe with consolidated model coefficients \n",
    "coef_df = pd.concat([ols_coef_df['Coefficients'], \n",
    "                     ridge_coef_df['Coefficients'], \n",
    "                     lasso_coef_df['Coefficients'], \n",
    "                     enet_coef_df['Coefficients']])\n",
    "\n",
    "coef_df = pd.DataFrame(coef_df)\n",
    "\n",
    "coef_df.reset_index(level = 0, inplace = True)\n",
    "coef_df.columns = ['variable', 'coefficient']\n",
    "\n",
    "coef_df.loc[0:27, \"model\"] = \"OLS\"\n",
    "coef_df.loc[28:55, \"model\"] = \"Ridge\"\n",
    "coef_df.loc[56:83, \"model\"] = \"Lasso\"\n",
    "coef_df.loc[84:111, \"model\"] = \"Enet\"\n"
   ]
  },
  {
   "cell_type": "code",
   "execution_count": 41,
   "id": "c1c24651",
   "metadata": {},
   "outputs": [
    {
     "data": {
      "image/png": "[encoded data removed]",
      "text/plain": [
       "<Figure size 1216.62x576 with 1 Axes>"
      ]
     },
     "metadata": {
      "needs_background": "light"
     },
     "output_type": "display_data"
    }
   ],
   "source": [
    "# Generate bargraph visualization depicting feature coefficients across all four models \n",
    "bar = sns.catplot(x = 'variable',\n",
    "                  y = 'coefficient',\n",
    "                  hue = 'model',\n",
    "                  data = coef_df,\n",
    "                  kind = 'bar',\n",
    "                  height = 8,\n",
    "                  aspect = 2)\n",
    "\n",
    "bar.set_xticklabels(rotation = 90)\n",
    "\n",
    "plt.title('Coefficients of Models on Full Train Set', fontsize = 24)\n",
    "plt.xlabel(\"Predictor Variables\", size = 20)\n",
    "plt.ylabel(\"Coefficients\", size = 20)\n",
    "plt.legend(loc = \"upper right\", ncol = 2, fontsize = 16)\n",
    "plt.show()\n"
   ]
  },
  {
   "cell_type": "markdown",
   "id": "ba9df205",
   "metadata": {},
   "source": [
    "From the graph above, the five factors with largest influences (arranged in decreasing order) on Ames housing prices in the study period are:  \n",
    "1) Above-grade area  \n",
    "2) Overall quality  \n",
    "3) Below-grade area  \n",
    "4) Neighbourhood  \n",
    "5) Age  \n",
    "\n",
    "The coefficients across all four models are relatively comparable, indicating that effect of each respective predictor feature on the target variable (house sale price) is relatively consistent as well and signalling to effective feature selection and engineering. Hence, all four models are likely to be stable.  \n",
    "\n",
    "Zooming in on the five identified factors with heaviest influence on housing prices in Ames, these predictors roughly corresponds with our findings stated in Part 2 summary previously and are generally sensible traits which home buyers across the world look out for when purchasing a property, except for below-grade area which is limited to landed houses. Almost naturally, Above-grade area takes precedence amongst all other features since it is the best indicator of livable space, a fundamental imperative. This is followed very closely by Overall quality, which alludes to the importance of attaining an equilibrium between quantity (represented by Above-grade space) and quality (represented by Overall quality).  \n",
    "\n",
    "\n",
    "Interestingly, Below-grade area ranks highly in this regard too. Personally, living in a high intensity country which prioritizes building upwards rather than downwards, it was difficult to resonate with this point. Hence, we turn our heads to this [*reddit commentary*](https://www.reddit.com/r/AskAnAmerican/comments/fycqk8/are_basements_common_in_houses_in_the_us/) to unearth (no pun intended) opinions on the value (or lack thereof) of basement in US. In sum, it is common and arguably even a necessity for houses located in the northern states to have basements as foundations have to be built below the frost line to ensure structural integrity. Traditionally, basements doubled-up as storage spaces, especially given the different equipments/furnitures used arising from seasonal variation. Also, the geology (softer rocks) for northern US states are more conducive for excavation/earthworks. Conversely, states towards the south almost entirely have no basements given frequent flooding incidences. In the context of Ames, the diurnal monthly temperature has a summer-high and winter alow is about 30 degrees-celcius and -10 degrees-celcius respectively [*source*](https://www.ncei.noaa.gov/), explaining the high occurences of houses with basements. Interesting, an [*article*](https://www.atlasobscura.com/articles/how-the-man-cave-took-over-americas-basements) also surfaces an increasing prevalence of the 'man cave' phenomenon, where basements are repurposed as semi-living recreational spaces geared towards men; the underground nature of basements emits \"chill\" vibes which creates an optimal environment for the 'man cave'. \n",
    "\n",
    "Where Neighbourhood is concerned, we expand the spatial scale beyond that of the house per se to consider the surroundings. Naturally, the immediate vicinity is a critical consideration for both practical (access to daily necessities; quantum of communal, sports & recreational and educational facilities etc.) and personal (relations with direct neighbours; ability to assimilate into community etc.) reasons. Age is often considered too as a reflection of condition, assuming a miminal level of wear-and-tear over time. Hence, it shares an inverse relation with housing prices. On this note, it was interesting to note that Overall quality had such a large influence on housing prices while Overall condition was somewhat negligible, signalling to home buyers prioritizing quality over condition. A possible reason might be that it is cheaper to maintain/repair a high-quality house (i.e. improve condition) as compared to purchasing high-quality replacement equipments and furniture (i.e. improve quality).  \n",
    "\n",
    "On a closing note, it is compelling to note that Kitchen quality, Fireplace, Total outdoor area and Paved driveway score relatively high. Living in a fast-paced society with hectic lifestyle, kitchens are often reduced to nothing more than functional spaces while fireplace, outdoor areas and paved driveways foreign concepts given the climate and public housing model. This goes back to an earlier point raised that *context matters*: these features are pertinent in the context of suburban houses in US (such as the case of Ames); they contribute to the \"American dream\" and 'utopic suburbia fantasy' [*(source)*](https://www.businessinsider.com/rise-and-fall-suburbs-from-american-dream-to-bland-2020-8), though critiques have asserted a paradigmatic shift in the suburbia ideology over the past decade.  \n",
    "\n",
    "\n"
   ]
  },
  {
   "cell_type": "markdown",
   "id": "c0cacab1",
   "metadata": {},
   "source": [
    "<div id=\"modelscores\"></div>\n",
    "\n",
    "##### Model Scores\n",
    "\n",
    "||Train R2 Score|Train Cross-validation Mean Score|Train Cross-val RMSE Score|Test R2 Score|Test RMSE Score|alpha / l1 ratio|\n",
    "|---|---|---|---|---|---|---|\n",
    "|OLS|0.9057|0.9014|26351.9597|0.857|20504.0885||\n",
    "|Ridge|0.9057|0.9015|26336.9819|0.8571|20458.6934|27.0496|\n",
    "|Lasso|0.9056|0.9017|26351.9593|0.8577|20452.2196|0.0010|\n",
    "|Enet|0.9056|0.9017|26339.8375|0.8578|20421.308|0.0113, 0.0925|\n",
    "\n",
    "*Train cross-validation score excluded; refer to train cross-validation mean score instead*  \n",
    "\n",
    "Comparing the R2 and RMSE scores, it is consistent values for the respective scores across the models suggest that the models are reasonably stable resulting from a good selection/engineering of predictor features. **Since heaviest weightage is accorded to Test RMSE score, we will adopt Enet regression for the production model as it has the lowest Test RMSE score.** This is on the basis that a lower test RMSE score likely translating to better predictability on a completely new dataset (i.e. lower variance), as the absolute difference between actual and predicted housing price is minimized. Further, the close R2 scores alludes to an optimal bias-variance tradeoff. The reasonably low alpha values for ridge, lasso and elastic net models is indicative of only a small penalty being applied to the variable coefficients; this may be construed positively as it means that an ideal number and type of predictor features were selected. \n"
   ]
  },
  {
   "cell_type": "markdown",
   "id": "58f1a333",
   "metadata": {},
   "source": [
    "<div id=\"3.1.4\"></div>\n",
    "\n",
    "#### 3.1.4 Model Production\n",
    "\n",
    "Relevant scaling, data cleaning and feature engineering is conducted for the test dataset, to ensure constant basis for prediction using the production model developed from the train dataset. \n",
    "<div id=\"production\"></div>\n"
   ]
  },
  {
   "cell_type": "code",
   "execution_count": 42,
   "id": "c2d74cd0",
   "metadata": {},
   "outputs": [],
   "source": [
    "predictors = [col for col in train_engineer_df._get_numeric_data().columns if col != 'log_saleprice']\n",
    "\n",
    "X_train_final = train_engineer_df[predictors]\n",
    "y_train_final = train_engineer_df['log_saleprice']\n"
   ]
  },
  {
   "cell_type": "code",
   "execution_count": 43,
   "id": "a19e06a3",
   "metadata": {},
   "outputs": [
    {
     "name": "stdout",
     "output_type": "stream",
     "text": [
      "<class 'pandas.core.frame.DataFrame'>\n",
      "RangeIndex: 2047 entries, 0 to 2046\n",
      "Data columns (total 28 columns):\n",
      " #   Column                             Non-Null Count  Dtype  \n",
      "---  ------                             --------------  -----  \n",
      " 0   neighborhood                       2047 non-null   int64  \n",
      " 1   overall_qual                       2047 non-null   int64  \n",
      " 2   ms_zoning                          2047 non-null   int64  \n",
      " 3   ms_subclass_60_house_style_2Story  2047 non-null   int64  \n",
      " 4   lot_area                           2047 non-null   int64  \n",
      " 5   lot_shape                          2047 non-null   int64  \n",
      " 6   lot_frontage                       2047 non-null   float64\n",
      " 7   paved_drive                        2047 non-null   int64  \n",
      " 8   totrms_abvgrd                      2047 non-null   int64  \n",
      " 9   kitchen_qual                       2047 non-null   int64  \n",
      " 10  fireplaces                         2047 non-null   int64  \n",
      " 11  fireplace_qu                       2047 non-null   int64  \n",
      " 12  abv_grd_sf                         2047 non-null   int64  \n",
      " 13  total_bath                         2047 non-null   int64  \n",
      " 14  below_grd_sf                       2047 non-null   float64\n",
      " 15  overall_bsmt_score                 2047 non-null   int64  \n",
      " 16  exter_qual                         2047 non-null   int64  \n",
      " 17  total_outdoor_area                 2047 non-null   float64\n",
      " 18  overall_garage_score               2047 non-null   int64  \n",
      " 19  foundation_PConc                   2047 non-null   int64  \n",
      " 20  garage_type_Attchd                 2047 non-null   int64  \n",
      " 21  garage_type_Detchd                 2047 non-null   int64  \n",
      " 22  roof_style_Hip                     2047 non-null   int64  \n",
      " 23  exterior_1st_VinylSd               2047 non-null   int64  \n",
      " 24  mas_vnr_type_None                  2047 non-null   int64  \n",
      " 25  age                                2047 non-null   int64  \n",
      " 26  electrical                         2047 non-null   int64  \n",
      " 27  sale_type_New                      2047 non-null   int64  \n",
      "dtypes: float64(3), int64(25)\n",
      "memory usage: 447.9 KB\n"
     ]
    }
   ],
   "source": [
    "X_train_final.info()\n"
   ]
  },
  {
   "cell_type": "code",
   "execution_count": 44,
   "id": "cc229b39",
   "metadata": {},
   "outputs": [
    {
     "data": {
      "text/html": [
       "<div>\n",
       "<style scoped>\n",
       "    .dataframe tbody tr th:only-of-type {\n",
       "        vertical-align: middle;\n",
       "    }\n",
       "\n",
       "    .dataframe tbody tr th {\n",
       "        vertical-align: top;\n",
       "    }\n",
       "\n",
       "    .dataframe thead th {\n",
       "        text-align: right;\n",
       "    }\n",
       "</style>\n",
       "<table border=\"1\" class=\"dataframe\">\n",
       "  <thead>\n",
       "    <tr style=\"text-align: right;\">\n",
       "      <th></th>\n",
       "      <th>Id</th>\n",
       "      <th>PID</th>\n",
       "      <th>MS SubClass</th>\n",
       "      <th>MS Zoning</th>\n",
       "      <th>Lot Frontage</th>\n",
       "      <th>Lot Area</th>\n",
       "      <th>Street</th>\n",
       "      <th>Alley</th>\n",
       "      <th>Lot Shape</th>\n",
       "      <th>Land Contour</th>\n",
       "      <th>Utilities</th>\n",
       "      <th>Lot Config</th>\n",
       "      <th>Land Slope</th>\n",
       "      <th>Neighborhood</th>\n",
       "      <th>Condition 1</th>\n",
       "      <th>Condition 2</th>\n",
       "      <th>Bldg Type</th>\n",
       "      <th>House Style</th>\n",
       "      <th>Overall Qual</th>\n",
       "      <th>Overall Cond</th>\n",
       "      <th>Year Built</th>\n",
       "      <th>Year Remod/Add</th>\n",
       "      <th>Roof Style</th>\n",
       "      <th>Roof Matl</th>\n",
       "      <th>Exterior 1st</th>\n",
       "      <th>Exterior 2nd</th>\n",
       "      <th>Mas Vnr Type</th>\n",
       "      <th>Mas Vnr Area</th>\n",
       "      <th>Exter Qual</th>\n",
       "      <th>Exter Cond</th>\n",
       "      <th>Foundation</th>\n",
       "      <th>Bsmt Qual</th>\n",
       "      <th>Bsmt Cond</th>\n",
       "      <th>Bsmt Exposure</th>\n",
       "      <th>BsmtFin Type 1</th>\n",
       "      <th>BsmtFin SF 1</th>\n",
       "      <th>BsmtFin Type 2</th>\n",
       "      <th>BsmtFin SF 2</th>\n",
       "      <th>Bsmt Unf SF</th>\n",
       "      <th>Total Bsmt SF</th>\n",
       "      <th>Heating</th>\n",
       "      <th>Heating QC</th>\n",
       "      <th>Central Air</th>\n",
       "      <th>Electrical</th>\n",
       "      <th>1st Flr SF</th>\n",
       "      <th>2nd Flr SF</th>\n",
       "      <th>Low Qual Fin SF</th>\n",
       "      <th>Gr Liv Area</th>\n",
       "      <th>Bsmt Full Bath</th>\n",
       "      <th>Bsmt Half Bath</th>\n",
       "      <th>Full Bath</th>\n",
       "      <th>Half Bath</th>\n",
       "      <th>Bedroom AbvGr</th>\n",
       "      <th>Kitchen AbvGr</th>\n",
       "      <th>Kitchen Qual</th>\n",
       "      <th>TotRms AbvGrd</th>\n",
       "      <th>Functional</th>\n",
       "      <th>Fireplaces</th>\n",
       "      <th>Fireplace Qu</th>\n",
       "      <th>Garage Type</th>\n",
       "      <th>Garage Yr Blt</th>\n",
       "      <th>Garage Finish</th>\n",
       "      <th>Garage Cars</th>\n",
       "      <th>Garage Area</th>\n",
       "      <th>Garage Qual</th>\n",
       "      <th>Garage Cond</th>\n",
       "      <th>Paved Drive</th>\n",
       "      <th>Wood Deck SF</th>\n",
       "      <th>Open Porch SF</th>\n",
       "      <th>Enclosed Porch</th>\n",
       "      <th>3Ssn Porch</th>\n",
       "      <th>Screen Porch</th>\n",
       "      <th>Pool Area</th>\n",
       "      <th>Pool QC</th>\n",
       "      <th>Fence</th>\n",
       "      <th>Misc Feature</th>\n",
       "      <th>Misc Val</th>\n",
       "      <th>Mo Sold</th>\n",
       "      <th>Yr Sold</th>\n",
       "      <th>Sale Type</th>\n",
       "    </tr>\n",
       "  </thead>\n",
       "  <tbody>\n",
       "    <tr>\n",
       "      <th>0</th>\n",
       "      <td>2658</td>\n",
       "      <td>902301120</td>\n",
       "      <td>190</td>\n",
       "      <td>RM</td>\n",
       "      <td>69.0</td>\n",
       "      <td>9142</td>\n",
       "      <td>Pave</td>\n",
       "      <td>Grvl</td>\n",
       "      <td>Reg</td>\n",
       "      <td>Lvl</td>\n",
       "      <td>AllPub</td>\n",
       "      <td>Inside</td>\n",
       "      <td>Gtl</td>\n",
       "      <td>OldTown</td>\n",
       "      <td>Norm</td>\n",
       "      <td>Norm</td>\n",
       "      <td>2fmCon</td>\n",
       "      <td>2Story</td>\n",
       "      <td>6</td>\n",
       "      <td>8</td>\n",
       "      <td>1910</td>\n",
       "      <td>1950</td>\n",
       "      <td>Gable</td>\n",
       "      <td>CompShg</td>\n",
       "      <td>AsbShng</td>\n",
       "      <td>AsbShng</td>\n",
       "      <td>None</td>\n",
       "      <td>0.0</td>\n",
       "      <td>TA</td>\n",
       "      <td>Fa</td>\n",
       "      <td>Stone</td>\n",
       "      <td>Fa</td>\n",
       "      <td>TA</td>\n",
       "      <td>No</td>\n",
       "      <td>Unf</td>\n",
       "      <td>0</td>\n",
       "      <td>Unf</td>\n",
       "      <td>0</td>\n",
       "      <td>1020</td>\n",
       "      <td>1020</td>\n",
       "      <td>GasA</td>\n",
       "      <td>Gd</td>\n",
       "      <td>N</td>\n",
       "      <td>FuseP</td>\n",
       "      <td>908</td>\n",
       "      <td>1020</td>\n",
       "      <td>0</td>\n",
       "      <td>1928</td>\n",
       "      <td>0</td>\n",
       "      <td>0</td>\n",
       "      <td>2</td>\n",
       "      <td>0</td>\n",
       "      <td>4</td>\n",
       "      <td>2</td>\n",
       "      <td>Fa</td>\n",
       "      <td>9</td>\n",
       "      <td>Typ</td>\n",
       "      <td>0</td>\n",
       "      <td>NaN</td>\n",
       "      <td>Detchd</td>\n",
       "      <td>1910.0</td>\n",
       "      <td>Unf</td>\n",
       "      <td>1</td>\n",
       "      <td>440</td>\n",
       "      <td>Po</td>\n",
       "      <td>Po</td>\n",
       "      <td>Y</td>\n",
       "      <td>0</td>\n",
       "      <td>60</td>\n",
       "      <td>112</td>\n",
       "      <td>0</td>\n",
       "      <td>0</td>\n",
       "      <td>0</td>\n",
       "      <td>NaN</td>\n",
       "      <td>NaN</td>\n",
       "      <td>NaN</td>\n",
       "      <td>0</td>\n",
       "      <td>4</td>\n",
       "      <td>2006</td>\n",
       "      <td>WD</td>\n",
       "    </tr>\n",
       "    <tr>\n",
       "      <th>1</th>\n",
       "      <td>2718</td>\n",
       "      <td>905108090</td>\n",
       "      <td>90</td>\n",
       "      <td>RL</td>\n",
       "      <td>NaN</td>\n",
       "      <td>9662</td>\n",
       "      <td>Pave</td>\n",
       "      <td>NaN</td>\n",
       "      <td>IR1</td>\n",
       "      <td>Lvl</td>\n",
       "      <td>AllPub</td>\n",
       "      <td>Inside</td>\n",
       "      <td>Gtl</td>\n",
       "      <td>Sawyer</td>\n",
       "      <td>Norm</td>\n",
       "      <td>Norm</td>\n",
       "      <td>Duplex</td>\n",
       "      <td>1Story</td>\n",
       "      <td>5</td>\n",
       "      <td>4</td>\n",
       "      <td>1977</td>\n",
       "      <td>1977</td>\n",
       "      <td>Gable</td>\n",
       "      <td>CompShg</td>\n",
       "      <td>Plywood</td>\n",
       "      <td>Plywood</td>\n",
       "      <td>None</td>\n",
       "      <td>0.0</td>\n",
       "      <td>TA</td>\n",
       "      <td>TA</td>\n",
       "      <td>CBlock</td>\n",
       "      <td>Gd</td>\n",
       "      <td>TA</td>\n",
       "      <td>No</td>\n",
       "      <td>Unf</td>\n",
       "      <td>0</td>\n",
       "      <td>Unf</td>\n",
       "      <td>0</td>\n",
       "      <td>1967</td>\n",
       "      <td>1967</td>\n",
       "      <td>GasA</td>\n",
       "      <td>TA</td>\n",
       "      <td>Y</td>\n",
       "      <td>SBrkr</td>\n",
       "      <td>1967</td>\n",
       "      <td>0</td>\n",
       "      <td>0</td>\n",
       "      <td>1967</td>\n",
       "      <td>0</td>\n",
       "      <td>0</td>\n",
       "      <td>2</td>\n",
       "      <td>0</td>\n",
       "      <td>6</td>\n",
       "      <td>2</td>\n",
       "      <td>TA</td>\n",
       "      <td>10</td>\n",
       "      <td>Typ</td>\n",
       "      <td>0</td>\n",
       "      <td>NaN</td>\n",
       "      <td>Attchd</td>\n",
       "      <td>1977.0</td>\n",
       "      <td>Fin</td>\n",
       "      <td>2</td>\n",
       "      <td>580</td>\n",
       "      <td>TA</td>\n",
       "      <td>TA</td>\n",
       "      <td>Y</td>\n",
       "      <td>170</td>\n",
       "      <td>0</td>\n",
       "      <td>0</td>\n",
       "      <td>0</td>\n",
       "      <td>0</td>\n",
       "      <td>0</td>\n",
       "      <td>NaN</td>\n",
       "      <td>NaN</td>\n",
       "      <td>NaN</td>\n",
       "      <td>0</td>\n",
       "      <td>8</td>\n",
       "      <td>2006</td>\n",
       "      <td>WD</td>\n",
       "    </tr>\n",
       "    <tr>\n",
       "      <th>2</th>\n",
       "      <td>2414</td>\n",
       "      <td>528218130</td>\n",
       "      <td>60</td>\n",
       "      <td>RL</td>\n",
       "      <td>58.0</td>\n",
       "      <td>17104</td>\n",
       "      <td>Pave</td>\n",
       "      <td>NaN</td>\n",
       "      <td>IR1</td>\n",
       "      <td>Lvl</td>\n",
       "      <td>AllPub</td>\n",
       "      <td>Inside</td>\n",
       "      <td>Gtl</td>\n",
       "      <td>Gilbert</td>\n",
       "      <td>Norm</td>\n",
       "      <td>Norm</td>\n",
       "      <td>1Fam</td>\n",
       "      <td>2Story</td>\n",
       "      <td>7</td>\n",
       "      <td>5</td>\n",
       "      <td>2006</td>\n",
       "      <td>2006</td>\n",
       "      <td>Gable</td>\n",
       "      <td>CompShg</td>\n",
       "      <td>VinylSd</td>\n",
       "      <td>VinylSd</td>\n",
       "      <td>None</td>\n",
       "      <td>0.0</td>\n",
       "      <td>Gd</td>\n",
       "      <td>TA</td>\n",
       "      <td>PConc</td>\n",
       "      <td>Gd</td>\n",
       "      <td>Gd</td>\n",
       "      <td>Av</td>\n",
       "      <td>GLQ</td>\n",
       "      <td>554</td>\n",
       "      <td>Unf</td>\n",
       "      <td>0</td>\n",
       "      <td>100</td>\n",
       "      <td>654</td>\n",
       "      <td>GasA</td>\n",
       "      <td>Ex</td>\n",
       "      <td>Y</td>\n",
       "      <td>SBrkr</td>\n",
       "      <td>664</td>\n",
       "      <td>832</td>\n",
       "      <td>0</td>\n",
       "      <td>1496</td>\n",
       "      <td>1</td>\n",
       "      <td>0</td>\n",
       "      <td>2</td>\n",
       "      <td>1</td>\n",
       "      <td>3</td>\n",
       "      <td>1</td>\n",
       "      <td>Gd</td>\n",
       "      <td>7</td>\n",
       "      <td>Typ</td>\n",
       "      <td>1</td>\n",
       "      <td>Gd</td>\n",
       "      <td>Attchd</td>\n",
       "      <td>2006.0</td>\n",
       "      <td>RFn</td>\n",
       "      <td>2</td>\n",
       "      <td>426</td>\n",
       "      <td>TA</td>\n",
       "      <td>TA</td>\n",
       "      <td>Y</td>\n",
       "      <td>100</td>\n",
       "      <td>24</td>\n",
       "      <td>0</td>\n",
       "      <td>0</td>\n",
       "      <td>0</td>\n",
       "      <td>0</td>\n",
       "      <td>NaN</td>\n",
       "      <td>NaN</td>\n",
       "      <td>NaN</td>\n",
       "      <td>0</td>\n",
       "      <td>9</td>\n",
       "      <td>2006</td>\n",
       "      <td>New</td>\n",
       "    </tr>\n",
       "    <tr>\n",
       "      <th>3</th>\n",
       "      <td>1989</td>\n",
       "      <td>902207150</td>\n",
       "      <td>30</td>\n",
       "      <td>RM</td>\n",
       "      <td>60.0</td>\n",
       "      <td>8520</td>\n",
       "      <td>Pave</td>\n",
       "      <td>NaN</td>\n",
       "      <td>Reg</td>\n",
       "      <td>Lvl</td>\n",
       "      <td>AllPub</td>\n",
       "      <td>Inside</td>\n",
       "      <td>Gtl</td>\n",
       "      <td>OldTown</td>\n",
       "      <td>Norm</td>\n",
       "      <td>Norm</td>\n",
       "      <td>1Fam</td>\n",
       "      <td>1Story</td>\n",
       "      <td>5</td>\n",
       "      <td>6</td>\n",
       "      <td>1923</td>\n",
       "      <td>2006</td>\n",
       "      <td>Gable</td>\n",
       "      <td>CompShg</td>\n",
       "      <td>Wd Sdng</td>\n",
       "      <td>Wd Sdng</td>\n",
       "      <td>None</td>\n",
       "      <td>0.0</td>\n",
       "      <td>Gd</td>\n",
       "      <td>TA</td>\n",
       "      <td>CBlock</td>\n",
       "      <td>TA</td>\n",
       "      <td>TA</td>\n",
       "      <td>No</td>\n",
       "      <td>Unf</td>\n",
       "      <td>0</td>\n",
       "      <td>Unf</td>\n",
       "      <td>0</td>\n",
       "      <td>968</td>\n",
       "      <td>968</td>\n",
       "      <td>GasA</td>\n",
       "      <td>TA</td>\n",
       "      <td>Y</td>\n",
       "      <td>SBrkr</td>\n",
       "      <td>968</td>\n",
       "      <td>0</td>\n",
       "      <td>0</td>\n",
       "      <td>968</td>\n",
       "      <td>0</td>\n",
       "      <td>0</td>\n",
       "      <td>1</td>\n",
       "      <td>0</td>\n",
       "      <td>2</td>\n",
       "      <td>1</td>\n",
       "      <td>TA</td>\n",
       "      <td>5</td>\n",
       "      <td>Typ</td>\n",
       "      <td>0</td>\n",
       "      <td>NaN</td>\n",
       "      <td>Detchd</td>\n",
       "      <td>1935.0</td>\n",
       "      <td>Unf</td>\n",
       "      <td>2</td>\n",
       "      <td>480</td>\n",
       "      <td>Fa</td>\n",
       "      <td>TA</td>\n",
       "      <td>N</td>\n",
       "      <td>0</td>\n",
       "      <td>0</td>\n",
       "      <td>184</td>\n",
       "      <td>0</td>\n",
       "      <td>0</td>\n",
       "      <td>0</td>\n",
       "      <td>NaN</td>\n",
       "      <td>NaN</td>\n",
       "      <td>NaN</td>\n",
       "      <td>0</td>\n",
       "      <td>7</td>\n",
       "      <td>2007</td>\n",
       "      <td>WD</td>\n",
       "    </tr>\n",
       "    <tr>\n",
       "      <th>4</th>\n",
       "      <td>625</td>\n",
       "      <td>535105100</td>\n",
       "      <td>20</td>\n",
       "      <td>RL</td>\n",
       "      <td>NaN</td>\n",
       "      <td>9500</td>\n",
       "      <td>Pave</td>\n",
       "      <td>NaN</td>\n",
       "      <td>IR1</td>\n",
       "      <td>Lvl</td>\n",
       "      <td>AllPub</td>\n",
       "      <td>Inside</td>\n",
       "      <td>Gtl</td>\n",
       "      <td>NAmes</td>\n",
       "      <td>Norm</td>\n",
       "      <td>Norm</td>\n",
       "      <td>1Fam</td>\n",
       "      <td>1Story</td>\n",
       "      <td>6</td>\n",
       "      <td>5</td>\n",
       "      <td>1963</td>\n",
       "      <td>1963</td>\n",
       "      <td>Gable</td>\n",
       "      <td>CompShg</td>\n",
       "      <td>Plywood</td>\n",
       "      <td>Plywood</td>\n",
       "      <td>BrkFace</td>\n",
       "      <td>247.0</td>\n",
       "      <td>TA</td>\n",
       "      <td>TA</td>\n",
       "      <td>CBlock</td>\n",
       "      <td>Gd</td>\n",
       "      <td>TA</td>\n",
       "      <td>No</td>\n",
       "      <td>BLQ</td>\n",
       "      <td>609</td>\n",
       "      <td>Unf</td>\n",
       "      <td>0</td>\n",
       "      <td>785</td>\n",
       "      <td>1394</td>\n",
       "      <td>GasA</td>\n",
       "      <td>Gd</td>\n",
       "      <td>Y</td>\n",
       "      <td>SBrkr</td>\n",
       "      <td>1394</td>\n",
       "      <td>0</td>\n",
       "      <td>0</td>\n",
       "      <td>1394</td>\n",
       "      <td>1</td>\n",
       "      <td>0</td>\n",
       "      <td>1</td>\n",
       "      <td>1</td>\n",
       "      <td>3</td>\n",
       "      <td>1</td>\n",
       "      <td>TA</td>\n",
       "      <td>6</td>\n",
       "      <td>Typ</td>\n",
       "      <td>2</td>\n",
       "      <td>Gd</td>\n",
       "      <td>Attchd</td>\n",
       "      <td>1963.0</td>\n",
       "      <td>RFn</td>\n",
       "      <td>2</td>\n",
       "      <td>514</td>\n",
       "      <td>TA</td>\n",
       "      <td>TA</td>\n",
       "      <td>Y</td>\n",
       "      <td>0</td>\n",
       "      <td>76</td>\n",
       "      <td>0</td>\n",
       "      <td>0</td>\n",
       "      <td>185</td>\n",
       "      <td>0</td>\n",
       "      <td>NaN</td>\n",
       "      <td>NaN</td>\n",
       "      <td>NaN</td>\n",
       "      <td>0</td>\n",
       "      <td>7</td>\n",
       "      <td>2009</td>\n",
       "      <td>WD</td>\n",
       "    </tr>\n",
       "  </tbody>\n",
       "</table>\n",
       "</div>"
      ],
      "text/plain": [
       "     Id        PID  MS SubClass MS Zoning  Lot Frontage  Lot Area Street  \\\n",
       "0  2658  902301120          190        RM          69.0      9142   Pave   \n",
       "1  2718  905108090           90        RL           NaN      9662   Pave   \n",
       "2  2414  528218130           60        RL          58.0     17104   Pave   \n",
       "3  1989  902207150           30        RM          60.0      8520   Pave   \n",
       "4   625  535105100           20        RL           NaN      9500   Pave   \n",
       "\n",
       "  Alley Lot Shape Land Contour Utilities Lot Config Land Slope Neighborhood  \\\n",
       "0  Grvl       Reg          Lvl    AllPub     Inside        Gtl      OldTown   \n",
       "1   NaN       IR1          Lvl    AllPub     Inside        Gtl       Sawyer   \n",
       "2   NaN       IR1          Lvl    AllPub     Inside        Gtl      Gilbert   \n",
       "3   NaN       Reg          Lvl    AllPub     Inside        Gtl      OldTown   \n",
       "4   NaN       IR1          Lvl    AllPub     Inside        Gtl        NAmes   \n",
       "\n",
       "  Condition 1 Condition 2 Bldg Type House Style  Overall Qual  Overall Cond  \\\n",
       "0        Norm        Norm    2fmCon      2Story             6             8   \n",
       "1        Norm        Norm    Duplex      1Story             5             4   \n",
       "2        Norm        Norm      1Fam      2Story             7             5   \n",
       "3        Norm        Norm      1Fam      1Story             5             6   \n",
       "4        Norm        Norm      1Fam      1Story             6             5   \n",
       "\n",
       "   Year Built  Year Remod/Add Roof Style Roof Matl Exterior 1st Exterior 2nd  \\\n",
       "0        1910            1950      Gable   CompShg      AsbShng      AsbShng   \n",
       "1        1977            1977      Gable   CompShg      Plywood      Plywood   \n",
       "2        2006            2006      Gable   CompShg      VinylSd      VinylSd   \n",
       "3        1923            2006      Gable   CompShg      Wd Sdng      Wd Sdng   \n",
       "4        1963            1963      Gable   CompShg      Plywood      Plywood   \n",
       "\n",
       "  Mas Vnr Type  Mas Vnr Area Exter Qual Exter Cond Foundation Bsmt Qual  \\\n",
       "0         None           0.0         TA         Fa      Stone        Fa   \n",
       "1         None           0.0         TA         TA     CBlock        Gd   \n",
       "2         None           0.0         Gd         TA      PConc        Gd   \n",
       "3         None           0.0         Gd         TA     CBlock        TA   \n",
       "4      BrkFace         247.0         TA         TA     CBlock        Gd   \n",
       "\n",
       "  Bsmt Cond Bsmt Exposure BsmtFin Type 1  BsmtFin SF 1 BsmtFin Type 2  \\\n",
       "0        TA            No            Unf             0            Unf   \n",
       "1        TA            No            Unf             0            Unf   \n",
       "2        Gd            Av            GLQ           554            Unf   \n",
       "3        TA            No            Unf             0            Unf   \n",
       "4        TA            No            BLQ           609            Unf   \n",
       "\n",
       "   BsmtFin SF 2  Bsmt Unf SF  Total Bsmt SF Heating Heating QC Central Air  \\\n",
       "0             0         1020           1020    GasA         Gd           N   \n",
       "1             0         1967           1967    GasA         TA           Y   \n",
       "2             0          100            654    GasA         Ex           Y   \n",
       "3             0          968            968    GasA         TA           Y   \n",
       "4             0          785           1394    GasA         Gd           Y   \n",
       "\n",
       "  Electrical  1st Flr SF  2nd Flr SF  Low Qual Fin SF  Gr Liv Area  \\\n",
       "0      FuseP         908        1020                0         1928   \n",
       "1      SBrkr        1967           0                0         1967   \n",
       "2      SBrkr         664         832                0         1496   \n",
       "3      SBrkr         968           0                0          968   \n",
       "4      SBrkr        1394           0                0         1394   \n",
       "\n",
       "   Bsmt Full Bath  Bsmt Half Bath  Full Bath  Half Bath  Bedroom AbvGr  \\\n",
       "0               0               0          2          0              4   \n",
       "1               0               0          2          0              6   \n",
       "2               1               0          2          1              3   \n",
       "3               0               0          1          0              2   \n",
       "4               1               0          1          1              3   \n",
       "\n",
       "   Kitchen AbvGr Kitchen Qual  TotRms AbvGrd Functional  Fireplaces  \\\n",
       "0              2           Fa              9        Typ           0   \n",
       "1              2           TA             10        Typ           0   \n",
       "2              1           Gd              7        Typ           1   \n",
       "3              1           TA              5        Typ           0   \n",
       "4              1           TA              6        Typ           2   \n",
       "\n",
       "  Fireplace Qu Garage Type  Garage Yr Blt Garage Finish  Garage Cars  \\\n",
       "0          NaN      Detchd         1910.0           Unf            1   \n",
       "1          NaN      Attchd         1977.0           Fin            2   \n",
       "2           Gd      Attchd         2006.0           RFn            2   \n",
       "3          NaN      Detchd         1935.0           Unf            2   \n",
       "4           Gd      Attchd         1963.0           RFn            2   \n",
       "\n",
       "   Garage Area Garage Qual Garage Cond Paved Drive  Wood Deck SF  \\\n",
       "0          440          Po          Po           Y             0   \n",
       "1          580          TA          TA           Y           170   \n",
       "2          426          TA          TA           Y           100   \n",
       "3          480          Fa          TA           N             0   \n",
       "4          514          TA          TA           Y             0   \n",
       "\n",
       "   Open Porch SF  Enclosed Porch  3Ssn Porch  Screen Porch  Pool Area Pool QC  \\\n",
       "0             60             112           0             0          0     NaN   \n",
       "1              0               0           0             0          0     NaN   \n",
       "2             24               0           0             0          0     NaN   \n",
       "3              0             184           0             0          0     NaN   \n",
       "4             76               0           0           185          0     NaN   \n",
       "\n",
       "  Fence Misc Feature  Misc Val  Mo Sold  Yr Sold Sale Type  \n",
       "0   NaN          NaN         0        4     2006       WD   \n",
       "1   NaN          NaN         0        8     2006       WD   \n",
       "2   NaN          NaN         0        9     2006       New  \n",
       "3   NaN          NaN         0        7     2007       WD   \n",
       "4   NaN          NaN         0        7     2009       WD   "
      ]
     },
     "execution_count": 44,
     "metadata": {},
     "output_type": "execute_result"
    }
   ],
   "source": [
    "# Loading test df\n",
    "test_raw_df = pd.read_csv(\"../data/test.csv\")\n",
    "test_raw_df.head()\n"
   ]
  },
  {
   "cell_type": "code",
   "execution_count": 45,
   "id": "81139aa6",
   "metadata": {},
   "outputs": [
    {
     "name": "stdout",
     "output_type": "stream",
     "text": [
      "<class 'pandas.core.frame.DataFrame'>\n",
      "RangeIndex: 878 entries, 0 to 877\n",
      "Data columns (total 80 columns):\n",
      " #   Column           Non-Null Count  Dtype  \n",
      "---  ------           --------------  -----  \n",
      " 0   Id               878 non-null    int64  \n",
      " 1   PID              878 non-null    int64  \n",
      " 2   MS SubClass      878 non-null    int64  \n",
      " 3   MS Zoning        878 non-null    object \n",
      " 4   Lot Frontage     718 non-null    float64\n",
      " 5   Lot Area         878 non-null    int64  \n",
      " 6   Street           878 non-null    object \n",
      " 7   Alley            58 non-null     object \n",
      " 8   Lot Shape        878 non-null    object \n",
      " 9   Land Contour     878 non-null    object \n",
      " 10  Utilities        878 non-null    object \n",
      " 11  Lot Config       878 non-null    object \n",
      " 12  Land Slope       878 non-null    object \n",
      " 13  Neighborhood     878 non-null    object \n",
      " 14  Condition 1      878 non-null    object \n",
      " 15  Condition 2      878 non-null    object \n",
      " 16  Bldg Type        878 non-null    object \n",
      " 17  House Style      878 non-null    object \n",
      " 18  Overall Qual     878 non-null    int64  \n",
      " 19  Overall Cond     878 non-null    int64  \n",
      " 20  Year Built       878 non-null    int64  \n",
      " 21  Year Remod/Add   878 non-null    int64  \n",
      " 22  Roof Style       878 non-null    object \n",
      " 23  Roof Matl        878 non-null    object \n",
      " 24  Exterior 1st     878 non-null    object \n",
      " 25  Exterior 2nd     878 non-null    object \n",
      " 26  Mas Vnr Type     877 non-null    object \n",
      " 27  Mas Vnr Area     877 non-null    float64\n",
      " 28  Exter Qual       878 non-null    object \n",
      " 29  Exter Cond       878 non-null    object \n",
      " 30  Foundation       878 non-null    object \n",
      " 31  Bsmt Qual        853 non-null    object \n",
      " 32  Bsmt Cond        853 non-null    object \n",
      " 33  Bsmt Exposure    853 non-null    object \n",
      " 34  BsmtFin Type 1   853 non-null    object \n",
      " 35  BsmtFin SF 1     878 non-null    int64  \n",
      " 36  BsmtFin Type 2   853 non-null    object \n",
      " 37  BsmtFin SF 2     878 non-null    int64  \n",
      " 38  Bsmt Unf SF      878 non-null    int64  \n",
      " 39  Total Bsmt SF    878 non-null    int64  \n",
      " 40  Heating          878 non-null    object \n",
      " 41  Heating QC       878 non-null    object \n",
      " 42  Central Air      878 non-null    object \n",
      " 43  Electrical       877 non-null    object \n",
      " 44  1st Flr SF       878 non-null    int64  \n",
      " 45  2nd Flr SF       878 non-null    int64  \n",
      " 46  Low Qual Fin SF  878 non-null    int64  \n",
      " 47  Gr Liv Area      878 non-null    int64  \n",
      " 48  Bsmt Full Bath   878 non-null    int64  \n",
      " 49  Bsmt Half Bath   878 non-null    int64  \n",
      " 50  Full Bath        878 non-null    int64  \n",
      " 51  Half Bath        878 non-null    int64  \n",
      " 52  Bedroom AbvGr    878 non-null    int64  \n",
      " 53  Kitchen AbvGr    878 non-null    int64  \n",
      " 54  Kitchen Qual     878 non-null    object \n",
      " 55  TotRms AbvGrd    878 non-null    int64  \n",
      " 56  Functional       878 non-null    object \n",
      " 57  Fireplaces       878 non-null    int64  \n",
      " 58  Fireplace Qu     456 non-null    object \n",
      " 59  Garage Type      834 non-null    object \n",
      " 60  Garage Yr Blt    833 non-null    float64\n",
      " 61  Garage Finish    833 non-null    object \n",
      " 62  Garage Cars      878 non-null    int64  \n",
      " 63  Garage Area      878 non-null    int64  \n",
      " 64  Garage Qual      833 non-null    object \n",
      " 65  Garage Cond      833 non-null    object \n",
      " 66  Paved Drive      878 non-null    object \n",
      " 67  Wood Deck SF     878 non-null    int64  \n",
      " 68  Open Porch SF    878 non-null    int64  \n",
      " 69  Enclosed Porch   878 non-null    int64  \n",
      " 70  3Ssn Porch       878 non-null    int64  \n",
      " 71  Screen Porch     878 non-null    int64  \n",
      " 72  Pool Area        878 non-null    int64  \n",
      " 73  Pool QC          4 non-null      object \n",
      " 74  Fence            172 non-null    object \n",
      " 75  Misc Feature     41 non-null     object \n",
      " 76  Misc Val         878 non-null    int64  \n",
      " 77  Mo Sold          878 non-null    int64  \n",
      " 78  Yr Sold          878 non-null    int64  \n",
      " 79  Sale Type        878 non-null    object \n",
      "dtypes: float64(3), int64(35), object(42)\n",
      "memory usage: 548.9+ KB\n"
     ]
    }
   ],
   "source": [
    "test_raw_df.info() # Check test dataset for null values and datatype\n"
   ]
  },
  {
   "cell_type": "code",
   "execution_count": 46,
   "id": "d031e40e",
   "metadata": {},
   "outputs": [],
   "source": [
    "# Standardize headers for test datast\n",
    "def standard_headers(df):\n",
    "    df.columns = df.columns.str.strip()\n",
    "    df.columns = df.columns.str.replace(' ', '_')\n",
    "    df.columns = df.columns.str.lower()\n"
   ]
  },
  {
   "cell_type": "code",
   "execution_count": 47,
   "id": "8410c87b",
   "metadata": {},
   "outputs": [
    {
     "data": {
      "text/plain": [
       "Index(['id', 'pid', 'ms_subclass', 'ms_zoning', 'lot_frontage', 'lot_area',\n",
       "       'street', 'alley', 'lot_shape', 'land_contour', 'utilities',\n",
       "       'lot_config', 'land_slope', 'neighborhood', 'condition_1',\n",
       "       'condition_2', 'bldg_type', 'house_style', 'overall_qual',\n",
       "       'overall_cond', 'year_built', 'year_remod/add', 'roof_style',\n",
       "       'roof_matl', 'exterior_1st', 'exterior_2nd', 'mas_vnr_type',\n",
       "       'mas_vnr_area', 'exter_qual', 'exter_cond', 'foundation', 'bsmt_qual',\n",
       "       'bsmt_cond', 'bsmt_exposure', 'bsmtfin_type_1', 'bsmtfin_sf_1',\n",
       "       'bsmtfin_type_2', 'bsmtfin_sf_2', 'bsmt_unf_sf', 'total_bsmt_sf',\n",
       "       'heating', 'heating_qc', 'central_air', 'electrical', '1st_flr_sf',\n",
       "       '2nd_flr_sf', 'low_qual_fin_sf', 'gr_liv_area', 'bsmt_full_bath',\n",
       "       'bsmt_half_bath', 'full_bath', 'half_bath', 'bedroom_abvgr',\n",
       "       'kitchen_abvgr', 'kitchen_qual', 'totrms_abvgrd', 'functional',\n",
       "       'fireplaces', 'fireplace_qu', 'garage_type', 'garage_yr_blt',\n",
       "       'garage_finish', 'garage_cars', 'garage_area', 'garage_qual',\n",
       "       'garage_cond', 'paved_drive', 'wood_deck_sf', 'open_porch_sf',\n",
       "       'enclosed_porch', '3ssn_porch', 'screen_porch', 'pool_area', 'pool_qc',\n",
       "       'fence', 'misc_feature', 'misc_val', 'mo_sold', 'yr_sold', 'sale_type'],\n",
       "      dtype='object')"
      ]
     },
     "execution_count": 47,
     "metadata": {},
     "output_type": "execute_result"
    }
   ],
   "source": [
    "standard_headers(test_raw_df)\n",
    "\n",
    "test_raw_df.columns # Headers have been converted successfully\n"
   ]
  },
  {
   "cell_type": "code",
   "execution_count": 48,
   "id": "f7dfd0da",
   "metadata": {},
   "outputs": [],
   "source": [
    "# Drop irrelevant columns\n",
    "test_raw_df = test_raw_df.drop(columns = ['pool_qc', \n",
    "                                          'misc_feature', \n",
    "                                          'alley', \n",
    "                                          'fence', \n",
    "                                          'garage_yr_blt', \n",
    "                                          'street', \n",
    "                                          'condition_2', \n",
    "                                          'roof_matl', \n",
    "                                          'heating', \n",
    "                                          'central_air'])\n"
   ]
  },
  {
   "cell_type": "code",
   "execution_count": 49,
   "id": "d5084c85",
   "metadata": {},
   "outputs": [
    {
     "data": {
      "text/plain": [
       "0"
      ]
     },
     "execution_count": 49,
     "metadata": {},
     "output_type": "execute_result"
    }
   ],
   "source": [
    "# Fillna for mas_vnr_type with 'None'\n",
    "test_raw_df.mas_vnr_type.fillna(value = 'None', inplace = True)\n",
    "\n",
    "test_raw_df.mas_vnr_type.isnull().sum() # Missing values for masonry veneer type successfully filled with 'None'\n"
   ]
  },
  {
   "cell_type": "code",
   "execution_count": 50,
   "id": "a7faab6f",
   "metadata": {},
   "outputs": [
    {
     "data": {
      "text/plain": [
       "0"
      ]
     },
     "execution_count": 50,
     "metadata": {},
     "output_type": "execute_result"
    }
   ],
   "source": [
    "test_raw_df.mas_vnr_area.fillna(value = 0.0, inplace = True)\n",
    "\n",
    "test_raw_df.mas_vnr_area.isnull().sum() # Missing values for masonry veneer area successfully filled with 0.0\n"
   ]
  },
  {
   "cell_type": "code",
   "execution_count": 51,
   "id": "00b96ade",
   "metadata": {},
   "outputs": [
    {
     "data": {
      "text/plain": [
       "0"
      ]
     },
     "execution_count": 51,
     "metadata": {},
     "output_type": "execute_result"
    }
   ],
   "source": [
    "# Fill garage_type with 'NA'\n",
    "test_raw_df.garage_type.fillna(value = 'NA', inplace = True)\n",
    "\n",
    "test_raw_df.garage_type.isnull().sum() # Missing values for garage type successfully filled with 'NA' \n"
   ]
  },
  {
   "cell_type": "code",
   "execution_count": 52,
   "id": "00d28917",
   "metadata": {},
   "outputs": [
    {
     "data": {
      "text/plain": [
       "0"
      ]
     },
     "execution_count": 52,
     "metadata": {},
     "output_type": "execute_result"
    }
   ],
   "source": [
    "# Using simpleimputer to mode imputation for missing values in lot frontage column\n",
    "sim_imp = SimpleImputer(strategy = 'most_frequent')\n",
    "test_raw_df['lot_frontage'] = sim_imp.fit_transform(pd.DataFrame(test_raw_df['lot_frontage']))\n",
    "test_raw_df['lot_frontage'].mean()\n",
    "\n",
    "test_raw_df.lot_frontage.isnull().sum() # Missing values for lot frontage successfully imputed\n"
   ]
  },
  {
   "cell_type": "code",
   "execution_count": 53,
   "id": "489af610",
   "metadata": {},
   "outputs": [
    {
     "data": {
      "text/plain": [
       "1.7425968109339407"
      ]
     },
     "execution_count": 53,
     "metadata": {},
     "output_type": "execute_result"
    }
   ],
   "source": [
    "# Generate KNNimputer function\n",
    "knn_imp = KNNImputer()\n",
    "\n",
    "# KNNimpute garage_cars for house 1712, rounded up to nearest integer\n",
    "test_raw_df['garage_cars'] = knn_imp.fit_transform(pd.DataFrame(test_raw_df['garage_cars'])).round()\n",
    "\n",
    "test_raw_df['garage_cars'].mean()\n"
   ]
  },
  {
   "cell_type": "code",
   "execution_count": 54,
   "id": "b3b54a5a",
   "metadata": {},
   "outputs": [
    {
     "data": {
      "text/plain": [
       "dtype('int64')"
      ]
     },
     "execution_count": 54,
     "metadata": {},
     "output_type": "execute_result"
    }
   ],
   "source": [
    "# Convert basement full bath\n",
    "test_raw_df['bsmt_full_bath'] = test_raw_df['bsmt_full_bath'].astype(int)\n",
    "\n",
    "test_raw_df.bsmt_full_bath.dtype # basement full bath successfully converted from float to int\n"
   ]
  },
  {
   "cell_type": "code",
   "execution_count": 55,
   "id": "9d8150af",
   "metadata": {},
   "outputs": [
    {
     "data": {
      "text/plain": [
       "dtype('int64')"
      ]
     },
     "execution_count": 55,
     "metadata": {},
     "output_type": "execute_result"
    }
   ],
   "source": [
    "# Convert basement half bath\n",
    "test_raw_df['bsmt_half_bath'] = test_raw_df['bsmt_half_bath'].astype(int)\n",
    "\n",
    "test_raw_df.bsmt_half_bath.dtype # basement half bath successfully converted from float to int\n"
   ]
  },
  {
   "cell_type": "code",
   "execution_count": 56,
   "id": "d49c7115",
   "metadata": {},
   "outputs": [
    {
     "data": {
      "text/plain": [
       "dtype('int64')"
      ]
     },
     "execution_count": 56,
     "metadata": {},
     "output_type": "execute_result"
    }
   ],
   "source": [
    "# Convert garage cars built\n",
    "test_raw_df['garage_cars'] = test_raw_df['garage_cars'].astype(int)\n",
    "\n",
    "test_raw_df.garage_cars.dtype # basement half bath successfully converted from float to int\n"
   ]
  },
  {
   "cell_type": "code",
   "execution_count": 57,
   "id": "e211ceba",
   "metadata": {},
   "outputs": [],
   "source": [
    "def fill_map(col, replace_na_value, ord_dict, data = test_raw_df):\n",
    "    if replace_na_value is not None:\n",
    "        result = data.loc[:, col].fillna(replace_na_value)\n",
    "    else: \n",
    "        result = data.loc[:, col]\n",
    "    result = result.replace(ord_dict)\n",
    "    return result\n"
   ]
  },
  {
   "cell_type": "code",
   "execution_count": 58,
   "id": "2fce5ba7",
   "metadata": {},
   "outputs": [
    {
     "data": {
      "text/plain": [
       "0    2\n",
       "1    4\n",
       "2    4\n",
       "3    3\n",
       "4    4\n",
       "Name: bsmt_qual, dtype: int64"
      ]
     },
     "execution_count": 58,
     "metadata": {},
     "output_type": "execute_result"
    }
   ],
   "source": [
    "# Fill and map basement quality\n",
    "test_raw_df['bsmt_qual'] = fill_map('bsmt_qual', 'NA', {'NA': 0,'Po': 1,'Fa': 2,'TA': 3,'Gd': 4,'Ex': 5})\n",
    "\n",
    "test_raw_df.bsmt_qual.head() # Fill and map for basement quality successful\n"
   ]
  },
  {
   "cell_type": "code",
   "execution_count": 59,
   "id": "013da097",
   "metadata": {},
   "outputs": [
    {
     "data": {
      "text/plain": [
       "0    3\n",
       "1    3\n",
       "2    4\n",
       "3    3\n",
       "4    3\n",
       "Name: bsmt_cond, dtype: int64"
      ]
     },
     "execution_count": 59,
     "metadata": {},
     "output_type": "execute_result"
    }
   ],
   "source": [
    "# Fill and map basement condition\n",
    "test_raw_df['bsmt_cond'] = fill_map('bsmt_cond', 'NA', {'NA': 0,'Po': 1,'Fa': 2,'TA': 3,'Gd': 4,'Ex': 5})\n",
    "\n",
    "test_raw_df.bsmt_cond.head() # Fill and map for basement condition successful\n"
   ]
  },
  {
   "cell_type": "code",
   "execution_count": 60,
   "id": "df8bc3b9",
   "metadata": {},
   "outputs": [
    {
     "data": {
      "text/plain": [
       "0    1\n",
       "1    1\n",
       "2    3\n",
       "3    1\n",
       "4    1\n",
       "Name: bsmt_exposure, dtype: int64"
      ]
     },
     "execution_count": 60,
     "metadata": {},
     "output_type": "execute_result"
    }
   ],
   "source": [
    "# Fill and map basement exposure\n",
    "test_raw_df['bsmt_exposure'] = fill_map('bsmt_exposure', 'NA', {'NA': 0,'No': 1,'Mn': 2,'Av': 3,'Gd': 4})\n",
    "\n",
    "test_raw_df.bsmt_exposure.head() # Fill and map for basement exposure successful\n"
   ]
  },
  {
   "cell_type": "code",
   "execution_count": 61,
   "id": "10e8da77",
   "metadata": {},
   "outputs": [
    {
     "data": {
      "text/plain": [
       "0    1\n",
       "1    1\n",
       "2    6\n",
       "3    1\n",
       "4    4\n",
       "Name: bsmtfin_type_1, dtype: int64"
      ]
     },
     "execution_count": 61,
     "metadata": {},
     "output_type": "execute_result"
    }
   ],
   "source": [
    "# Fill and map basement finish type 1\n",
    "test_raw_df['bsmtfin_type_1'] = fill_map('bsmtfin_type_1', 'NA', {'NA': 0,'Unf': 1,'LwQ': 2,'Rec': 3,'BLQ': 4,'ALQ': 5,'GLQ': 6})\n",
    "\n",
    "test_raw_df.bsmtfin_type_1.head() # Fill and map for basement finish type 1 successful\n"
   ]
  },
  {
   "cell_type": "code",
   "execution_count": 62,
   "id": "892d2df6",
   "metadata": {},
   "outputs": [
    {
     "data": {
      "text/plain": [
       "0    1\n",
       "1    1\n",
       "2    6\n",
       "3    1\n",
       "4    4\n",
       "Name: bsmtfin_type_1, dtype: int64"
      ]
     },
     "execution_count": 62,
     "metadata": {},
     "output_type": "execute_result"
    }
   ],
   "source": [
    "# Fill and map basement finish type 1\n",
    "test_raw_df['bsmtfin_type_1'] = fill_map('bsmtfin_type_1', 'NA', {'NA': 0,'Unf': 1,'LwQ': 2,'Rec': 3,'BLQ': 4,'ALQ': 5,'GLQ': 6})\n",
    "\n",
    "test_raw_df.bsmtfin_type_1.head() # Fill and map for basement finish type 1 successful\n"
   ]
  },
  {
   "cell_type": "code",
   "execution_count": 63,
   "id": "6688ae6e",
   "metadata": {},
   "outputs": [
    {
     "data": {
      "text/plain": [
       "0    1\n",
       "1    1\n",
       "2    1\n",
       "3    1\n",
       "4    1\n",
       "Name: bsmtfin_type_2, dtype: int64"
      ]
     },
     "execution_count": 63,
     "metadata": {},
     "output_type": "execute_result"
    }
   ],
   "source": [
    "# Fill and map basement finish type 2\n",
    "test_raw_df['bsmtfin_type_2'] = fill_map('bsmtfin_type_2', 'NA', {'NA': 0,'Unf': 1,'LwQ': 2,'Rec': 3,'BLQ': 4,'ALQ': 5,'GLQ': 6})\n",
    "\n",
    "test_raw_df.bsmtfin_type_2.head() # Fill and map for basement finish type 2 successful\n"
   ]
  },
  {
   "cell_type": "code",
   "execution_count": 64,
   "id": "9226b058",
   "metadata": {},
   "outputs": [
    {
     "data": {
      "text/plain": [
       "0    0\n",
       "1    0\n",
       "2    4\n",
       "3    0\n",
       "4    4\n",
       "Name: fireplace_qu, dtype: int64"
      ]
     },
     "execution_count": 64,
     "metadata": {},
     "output_type": "execute_result"
    }
   ],
   "source": [
    "test_raw_df['fireplace_qu'] = fill_map('fireplace_qu', 'NA', {'NA': 0,'Po': 1,'Fa': 2,'TA': 3,'Gd': 4,'Ex': 5})\n",
    "\n",
    "test_raw_df.fireplace_qu.head() # Fill and map for fireplace qualit successful\n"
   ]
  },
  {
   "cell_type": "code",
   "execution_count": 65,
   "id": "edb7b1ed",
   "metadata": {},
   "outputs": [
    {
     "data": {
      "text/plain": [
       "0    1\n",
       "1    3\n",
       "2    2\n",
       "3    1\n",
       "4    2\n",
       "Name: garage_finish, dtype: int64"
      ]
     },
     "execution_count": 65,
     "metadata": {},
     "output_type": "execute_result"
    }
   ],
   "source": [
    "# Fill and map garage finish\n",
    "test_raw_df['garage_finish'] = fill_map('garage_finish', 'NA', {'NA': 0,'Unf': 1,'RFn': 2,'Fin': 3})\n",
    "\n",
    "test_raw_df.garage_finish.head() # Fill and map for garage finish successful\n"
   ]
  },
  {
   "cell_type": "code",
   "execution_count": 66,
   "id": "50beb1ba",
   "metadata": {},
   "outputs": [
    {
     "data": {
      "text/plain": [
       "0    1\n",
       "1    3\n",
       "2    3\n",
       "3    2\n",
       "4    3\n",
       "Name: garage_qual, dtype: int64"
      ]
     },
     "execution_count": 66,
     "metadata": {},
     "output_type": "execute_result"
    }
   ],
   "source": [
    "# Fill and map garage quality\n",
    "test_raw_df['garage_qual'] = fill_map('garage_qual', 'NA', {'NA': 0,'Po': 1,'Fa': 2,'TA': 3,'Gd': 4,'Ex': 5})\n",
    "\n",
    "test_raw_df.garage_qual.head() # Fill and map for garage quality successful\n"
   ]
  },
  {
   "cell_type": "code",
   "execution_count": 67,
   "id": "20392442",
   "metadata": {},
   "outputs": [
    {
     "data": {
      "text/plain": [
       "0    1\n",
       "1    3\n",
       "2    3\n",
       "3    3\n",
       "4    3\n",
       "Name: garage_cond, dtype: int64"
      ]
     },
     "execution_count": 67,
     "metadata": {},
     "output_type": "execute_result"
    }
   ],
   "source": [
    "# Fill and map garage condition\n",
    "test_raw_df['garage_cond'] = fill_map('garage_cond', 'NA', {'NA': 0,'Po': 1,'Fa': 2,'TA': 3,'Gd': 4,'Ex': 5})\n",
    "\n",
    "test_raw_df.garage_cond.head() # Fill and map for garage condition successful\n"
   ]
  },
  {
   "cell_type": "code",
   "execution_count": 68,
   "id": "fd0c15ce",
   "metadata": {},
   "outputs": [
    {
     "data": {
      "text/plain": [
       "0    3\n",
       "1    2\n",
       "2    2\n",
       "3    3\n",
       "4    2\n",
       "Name: lot_shape, dtype: int64"
      ]
     },
     "execution_count": 68,
     "metadata": {},
     "output_type": "execute_result"
    }
   ],
   "source": [
    "# Fill and map lot shape\n",
    "test_raw_df['lot_shape'] = fill_map('lot_shape', None, {'IR3': 0, 'IR2': 1, 'IR1': 2, 'Reg': 3})\n",
    "\n",
    "test_raw_df.lot_shape.head() # Fill and map for lot shape successful\n"
   ]
  },
  {
   "cell_type": "code",
   "execution_count": 69,
   "id": "c8d32005",
   "metadata": {},
   "outputs": [
    {
     "data": {
      "text/plain": [
       "0    3\n",
       "1    3\n",
       "2    3\n",
       "3    3\n",
       "4    3\n",
       "Name: utilities, dtype: int64"
      ]
     },
     "execution_count": 69,
     "metadata": {},
     "output_type": "execute_result"
    }
   ],
   "source": [
    "# Fill and map utilities\n",
    "test_raw_df['utilities'] = fill_map('utilities', None, {'ELO': 0, 'NoSeWa': 1, 'NoSewr': 2, 'AllPub': 3})\n",
    "\n",
    "test_raw_df.utilities.head() # Fill and map for utilities successful\n"
   ]
  },
  {
   "cell_type": "code",
   "execution_count": 70,
   "id": "3c94331a",
   "metadata": {},
   "outputs": [
    {
     "data": {
      "text/plain": [
       "0    2\n",
       "1    2\n",
       "2    2\n",
       "3    2\n",
       "4    2\n",
       "Name: land_slope, dtype: int64"
      ]
     },
     "execution_count": 70,
     "metadata": {},
     "output_type": "execute_result"
    }
   ],
   "source": [
    "# Fill and map land slope\n",
    "test_raw_df['land_slope'] = fill_map('land_slope', None, {'Sev': 0, 'Mod': 1, 'Gtl': 2})\n",
    "\n",
    "test_raw_df.land_slope.head() # Fill and map for land slope successful\n"
   ]
  },
  {
   "cell_type": "code",
   "execution_count": 71,
   "id": "79fb6edd",
   "metadata": {},
   "outputs": [
    {
     "data": {
      "text/plain": [
       "0    2\n",
       "1    2\n",
       "2    3\n",
       "3    3\n",
       "4    2\n",
       "Name: exter_qual, dtype: int64"
      ]
     },
     "execution_count": 71,
     "metadata": {},
     "output_type": "execute_result"
    }
   ],
   "source": [
    "# Fill and map exterior quality\n",
    "test_raw_df['exter_qual'] = fill_map('exter_qual', None, {'Po': 0, 'Fa': 1, 'TA': 2, 'Gd': 3, 'Ex':4})\n",
    "\n",
    "test_raw_df.exter_qual.head() # Fill and map for exterior quality successful\n"
   ]
  },
  {
   "cell_type": "code",
   "execution_count": 72,
   "id": "849313f0",
   "metadata": {},
   "outputs": [
    {
     "data": {
      "text/plain": [
       "0    1\n",
       "1    2\n",
       "2    2\n",
       "3    2\n",
       "4    2\n",
       "Name: exter_cond, dtype: int64"
      ]
     },
     "execution_count": 72,
     "metadata": {},
     "output_type": "execute_result"
    }
   ],
   "source": [
    "# Fill and map exterior condition\n",
    "test_raw_df['exter_cond'] = fill_map('exter_cond', None, {'Po': 0, 'Fa': 1, 'TA': 2, 'Gd': 3, 'Ex':4})\n",
    "\n",
    "test_raw_df.exter_cond.head() # Fill and map for exterior condition successful\n"
   ]
  },
  {
   "cell_type": "code",
   "execution_count": 73,
   "id": "9c740764",
   "metadata": {},
   "outputs": [
    {
     "data": {
      "text/plain": [
       "0    1\n",
       "1    2\n",
       "2    2\n",
       "3    2\n",
       "4    2\n",
       "Name: heating_qc, dtype: int64"
      ]
     },
     "execution_count": 73,
     "metadata": {},
     "output_type": "execute_result"
    }
   ],
   "source": [
    "# Fill and map heating QC\n",
    "test_raw_df['heating_qc'] = fill_map('exter_cond', None, {'Po': 0, 'Fa': 1, 'TA': 2, 'Gd': 3, 'Ex':4})\n",
    "\n",
    "test_raw_df.heating_qc.head() # Fill and map for heating QC successful\n"
   ]
  },
  {
   "cell_type": "code",
   "execution_count": 74,
   "id": "2f3e7cd7",
   "metadata": {},
   "outputs": [
    {
     "data": {
      "text/plain": [
       "0    1\n",
       "1    4\n",
       "2    4\n",
       "3    4\n",
       "4    4\n",
       "Name: electrical, dtype: int64"
      ]
     },
     "execution_count": 74,
     "metadata": {},
     "output_type": "execute_result"
    }
   ],
   "source": [
    "# Fill and map electrical\n",
    "test_raw_df['electrical'] = fill_map('electrical', 'Mix', {'Mix': 0, 'FuseP': 1, 'FuseF': 2, 'FuseA': 3, 'SBrkr':4})\n",
    "\n",
    "test_raw_df.electrical.head() # Fill and map for electrical successful\n"
   ]
  },
  {
   "cell_type": "code",
   "execution_count": 75,
   "id": "5fcab1c9",
   "metadata": {},
   "outputs": [
    {
     "data": {
      "text/plain": [
       "0    1\n",
       "1    2\n",
       "2    3\n",
       "3    2\n",
       "4    2\n",
       "Name: kitchen_qual, dtype: int64"
      ]
     },
     "execution_count": 75,
     "metadata": {},
     "output_type": "execute_result"
    }
   ],
   "source": [
    "# Fill and map kitchen quality\n",
    "test_raw_df['kitchen_qual'] = fill_map('kitchen_qual', None, {'Po': 0, 'Fa': 1, 'TA': 2, 'Gd': 3, 'Ex':4})\n",
    "\n",
    "test_raw_df.kitchen_qual.head() # Fill and map for kitchen quality successful\n"
   ]
  },
  {
   "cell_type": "code",
   "execution_count": 76,
   "id": "9b8fbd97",
   "metadata": {},
   "outputs": [
    {
     "data": {
      "text/plain": [
       "0    7\n",
       "1    7\n",
       "2    7\n",
       "3    7\n",
       "4    7\n",
       "Name: functional, dtype: int64"
      ]
     },
     "execution_count": 76,
     "metadata": {},
     "output_type": "execute_result"
    }
   ],
   "source": [
    "# Fill and map functional\n",
    "test_raw_df['functional'] = fill_map('functional', None, {'Sal': 0, \n",
    "                                                       'Sev': 1, \n",
    "                                                       'Maj2': 2, \n",
    "                                                       'Maj1': 3, \n",
    "                                                       'Mod':4, \n",
    "                                                       'Min2':5, \n",
    "                                                       'Min1':6, \n",
    "                                                       'Typ':7})\n",
    "\n",
    "test_raw_df.functional.head() # Fill and map for functional successful\n"
   ]
  },
  {
   "cell_type": "code",
   "execution_count": 77,
   "id": "b839415a",
   "metadata": {},
   "outputs": [
    {
     "data": {
      "text/plain": [
       "0    2\n",
       "1    2\n",
       "2    2\n",
       "3    0\n",
       "4    2\n",
       "Name: paved_drive, dtype: int64"
      ]
     },
     "execution_count": 77,
     "metadata": {},
     "output_type": "execute_result"
    }
   ],
   "source": [
    "# Fill and map paved driveway\n",
    "test_raw_df['paved_drive'] = fill_map('paved_drive', None, {'N': 0, 'P': 1, 'Y': 2})\n",
    "\n",
    "test_raw_df.paved_drive.head() # Fill and map for paved driveway successful\n"
   ]
  },
  {
   "cell_type": "code",
   "execution_count": 78,
   "id": "001d5264",
   "metadata": {},
   "outputs": [
    {
     "data": {
      "text/plain": [
       "0    1\n",
       "1    2\n",
       "2    3\n",
       "3    1\n",
       "4    2\n",
       "Name: neighborhood, dtype: int64"
      ]
     },
     "execution_count": 78,
     "metadata": {},
     "output_type": "execute_result"
    }
   ],
   "source": [
    "# Score neighbourhood\n",
    "test_raw_df['neighborhood'] = fill_map('neighborhood', None, {'MeadowV': 1, \n",
    "                                                              'IDOTRR' : 1, \n",
    "                                                              'BrDale' : 1, \n",
    "                                                              'OldTown': 1, \n",
    "                                                              'BrkSide': 1, \n",
    "                                                              'Edwards': 1, \n",
    "                                                              'SWISU': 1, \n",
    "                                                              'Landmrk':2, \n",
    "                                                              'Sawyer':2, \n",
    "                                                              'NPkVill':2, \n",
    "                                                              'Blueste':2, \n",
    "                                                              'NAmes':2, \n",
    "                                                              'Mitchel':2, \n",
    "                                                              'SawyerW':2, \n",
    "                                                              'Greens':3, \n",
    "                                                              'Gilbert':3, \n",
    "                                                              'NWAmes':3, \n",
    "                                                              'Blmngtn':3, \n",
    "                                                              'CollgCr':3, \n",
    "                                                              'Crawfor':3, \n",
    "                                                              'ClearCr':3, \n",
    "                                                              'Somerst':4, \n",
    "                                                              'Timber':4, \n",
    "                                                              'Veenker':4, \n",
    "                                                              'GrnHill':4, \n",
    "                                                              'StoneBr':4, \n",
    "                                                              'NoRidge':4, \n",
    "                                                              'NridgHt':4,})\n",
    "\n",
    "test_raw_df.neighborhood.head() # Scoring for neighbourhood successful"
   ]
  },
  {
   "cell_type": "code",
   "execution_count": 79,
   "id": "769d20e6",
   "metadata": {},
   "outputs": [
    {
     "data": {
      "text/plain": [
       "0    2\n",
       "1    3\n",
       "2    3\n",
       "3    2\n",
       "4    3\n",
       "Name: ms_zoning, dtype: int64"
      ]
     },
     "execution_count": 79,
     "metadata": {},
     "output_type": "execute_result"
    }
   ],
   "source": [
    "# Score zoning\n",
    "test_raw_df['ms_zoning'] = fill_map('ms_zoning', None, {'C (all)': 7, \n",
    "                                                      'I (all)': 6, \n",
    "                                                      'A (agr)' : 5, \n",
    "                                                      'FV': 4, \n",
    "                                                      'RL': 3, \n",
    "                                                      'RM': 2, \n",
    "                                                      'RH': 1}) \n",
    "\n",
    "test_raw_df.ms_zoning.head() # Scoring for zoning successful\n"
   ]
  },
  {
   "cell_type": "code",
   "execution_count": 80,
   "id": "f343ba25",
   "metadata": {},
   "outputs": [
    {
     "data": {
      "text/plain": [
       "0    1\n",
       "1    1\n",
       "2    1\n",
       "3    1\n",
       "4    1\n",
       "Name: land_contour, dtype: int64"
      ]
     },
     "execution_count": 80,
     "metadata": {},
     "output_type": "execute_result"
    }
   ],
   "source": [
    "# Score land contour\n",
    "test_raw_df['land_contour'] = fill_map('land_contour', None, {'Bnk': 0, 'HLS': 0, 'Low': 0, 'Lvl': 1}) \n",
    "\n",
    "test_raw_df.land_contour.head() # Scoring for land_contour successful\n"
   ]
  },
  {
   "cell_type": "code",
   "execution_count": 81,
   "id": "7a061344",
   "metadata": {},
   "outputs": [],
   "source": [
    "# Dummify subclass\n",
    "test_raw_df = pd.get_dummies(data = test_raw_df, columns = ['ms_subclass'], drop_first = True)\n"
   ]
  },
  {
   "cell_type": "code",
   "execution_count": 82,
   "id": "c1652b59",
   "metadata": {},
   "outputs": [],
   "source": [
    "# Dummify building type\n",
    "test_raw_df = pd.get_dummies(data = test_raw_df, columns = ['bldg_type'], drop_first = True)\n"
   ]
  },
  {
   "cell_type": "code",
   "execution_count": 83,
   "id": "55d6ab50",
   "metadata": {},
   "outputs": [],
   "source": [
    "# Dummify house style\n",
    "test_raw_df = pd.get_dummies(data = test_raw_df, columns = ['house_style'], drop_first = True)\n"
   ]
  },
  {
   "cell_type": "code",
   "execution_count": 84,
   "id": "9c675f40",
   "metadata": {},
   "outputs": [],
   "source": [
    "test_raw_df['ms_subclass_60_house_style_2Story'] = test_raw_df['ms_subclass_60'] * test_raw_df['house_style_2Story']\n"
   ]
  },
  {
   "cell_type": "code",
   "execution_count": 85,
   "id": "cec8c38c",
   "metadata": {},
   "outputs": [],
   "source": [
    "test_raw_df = pd.get_dummies(data = test_raw_df, columns = ['lot_config'], drop_first = True)\n"
   ]
  },
  {
   "cell_type": "code",
   "execution_count": 86,
   "id": "fd5bfd6a",
   "metadata": {},
   "outputs": [],
   "source": [
    "# Create single feature for above grade area\n",
    "test_raw_df['abv_grd_sf'] = test_raw_df['1st_flr_sf'] + test_raw_df['2nd_flr_sf']\n"
   ]
  },
  {
   "cell_type": "code",
   "execution_count": 87,
   "id": "0b2cc9cf",
   "metadata": {},
   "outputs": [],
   "source": [
    "# Create single feature for total bathrooms count \n",
    "test_raw_df['total_bath'] = test_raw_df['full_bath'] + test_raw_df['half_bath'] + test_raw_df['bsmt_full_bath'] + test_raw_df['bsmt_half_bath']"
   ]
  },
  {
   "cell_type": "code",
   "execution_count": 88,
   "id": "9daf4f2f",
   "metadata": {},
   "outputs": [],
   "source": [
    "# Create single feature for below grade area\n",
    "test_raw_df['below_grd_sf'] = test_raw_df['total_bsmt_sf'] + test_raw_df['bsmtfin_sf_1']\n"
   ]
  },
  {
   "cell_type": "code",
   "execution_count": 89,
   "id": "35952b9d",
   "metadata": {},
   "outputs": [],
   "source": [
    "# Create single feature for overall basement score\n",
    "test_raw_df['overall_bsmt_score'] = test_raw_df['bsmt_qual'] + test_raw_df['bsmt_exposure'] + test_raw_df['bsmtfin_type_1']\n"
   ]
  },
  {
   "cell_type": "code",
   "execution_count": 90,
   "id": "378f7b34",
   "metadata": {},
   "outputs": [],
   "source": [
    "# Dummify foundation\n",
    "test_raw_df = pd.get_dummies(data = test_raw_df, columns = ['foundation'], drop_first = True)\n"
   ]
  },
  {
   "cell_type": "code",
   "execution_count": 91,
   "id": "7f8741c8",
   "metadata": {},
   "outputs": [],
   "source": [
    "# Dummify garage type\n",
    "test_raw_df = pd.get_dummies(data = test_raw_df, columns = ['garage_type'], drop_first = True)\n"
   ]
  },
  {
   "cell_type": "code",
   "execution_count": 92,
   "id": "c5511ef4",
   "metadata": {},
   "outputs": [],
   "source": [
    "# Dummify roof style\n",
    "test_raw_df = pd.get_dummies(data = test_raw_df, columns = ['roof_style'], drop_first = True)\n"
   ]
  },
  {
   "cell_type": "code",
   "execution_count": 93,
   "id": "413d4da5",
   "metadata": {},
   "outputs": [],
   "source": [
    "# Dummify Exterior 1st\n",
    "test_raw_df = pd.get_dummies(data = test_raw_df, columns = ['exterior_1st'], drop_first = True)\n"
   ]
  },
  {
   "cell_type": "code",
   "execution_count": 94,
   "id": "3587a054",
   "metadata": {},
   "outputs": [],
   "source": [
    "# Dummify Exterior 2nd\n",
    "test_raw_df = pd.get_dummies(data = test_raw_df, columns = ['exterior_2nd'], drop_first = True)\n"
   ]
  },
  {
   "cell_type": "code",
   "execution_count": 95,
   "id": "6e2acecf",
   "metadata": {},
   "outputs": [],
   "source": [
    "# Dummify masonry veneer type\n",
    "test_raw_df = pd.get_dummies(data = test_raw_df, columns = ['mas_vnr_type'], drop_first = True)\n"
   ]
  },
  {
   "cell_type": "code",
   "execution_count": 96,
   "id": "1f1dc2d3",
   "metadata": {},
   "outputs": [],
   "source": [
    "# Create single feature for outdoor area\n",
    "test_raw_df['total_outdoor_area'] = test_raw_df['garage_area'] + test_raw_df['mas_vnr_area'] + test_raw_df['wood_deck_sf'] + test_raw_df['open_porch_sf'] + test_raw_df['enclosed_porch'] + test_raw_df['3ssn_porch'] + test_raw_df['screen_porch']\n"
   ]
  },
  {
   "cell_type": "code",
   "execution_count": 97,
   "id": "eaea63be",
   "metadata": {},
   "outputs": [],
   "source": [
    "# Create single feature for overall garage score\n",
    "test_raw_df['overall_garage_score'] = test_raw_df['garage_qual'] + test_raw_df['garage_cond'] + test_raw_df['garage_finish']\n"
   ]
  },
  {
   "cell_type": "code",
   "execution_count": 98,
   "id": "85cd111a",
   "metadata": {},
   "outputs": [],
   "source": [
    "# Dummify sale type\n",
    "test_raw_df = pd.get_dummies(data = test_raw_df, columns = ['sale_type'], drop_first = True)\n"
   ]
  },
  {
   "cell_type": "code",
   "execution_count": 99,
   "id": "f2108b77",
   "metadata": {},
   "outputs": [],
   "source": [
    "# Create Age feature\n",
    "test_raw_df['age'] = test_raw_df['yr_sold'] - test_raw_df['year_remod/add'] \n"
   ]
  },
  {
   "cell_type": "code",
   "execution_count": 100,
   "id": "9c3d395e",
   "metadata": {},
   "outputs": [],
   "source": [
    "X_test_final = test_raw_df[['neighborhood', \n",
    "                            'overall_qual', \n",
    "                            'ms_zoning', \n",
    "                            'ms_subclass_60_house_style_2Story', \n",
    "                            'lot_area', \n",
    "                            'lot_shape', \n",
    "                            'lot_frontage', \n",
    "                            'paved_drive', \n",
    "                            'totrms_abvgrd', \n",
    "                            'kitchen_qual', \n",
    "                            'fireplaces', \n",
    "                            'fireplace_qu', \n",
    "                            'abv_grd_sf', \n",
    "                            'total_bath', \n",
    "                            'below_grd_sf', \n",
    "                            'overall_bsmt_score', \n",
    "                            'exter_qual', \n",
    "                            'total_outdoor_area', \n",
    "                            'overall_garage_score', \n",
    "                            'foundation_PConc', \n",
    "                            'garage_type_Attchd',\n",
    "                            'garage_type_Detchd', \n",
    "                            'roof_style_Hip', \n",
    "                            'exterior_1st_VinylSd', \n",
    "                            'mas_vnr_type_None', \n",
    "                            'age', \n",
    "                            'electrical', \n",
    "                            'sale_type_New']]\n"
   ]
  },
  {
   "cell_type": "code",
   "execution_count": 101,
   "id": "bc685eb0",
   "metadata": {},
   "outputs": [
    {
     "name": "stdout",
     "output_type": "stream",
     "text": [
      "(2047, 28)\n",
      "(878, 28)\n"
     ]
    }
   ],
   "source": [
    "print(X_train_final.shape)\n",
    "print(X_test_final.shape)\n"
   ]
  },
  {
   "cell_type": "code",
   "execution_count": 102,
   "id": "cf97531a",
   "metadata": {},
   "outputs": [
    {
     "data": {
      "text/html": [
       "<div>\n",
       "<style scoped>\n",
       "    .dataframe tbody tr th:only-of-type {\n",
       "        vertical-align: middle;\n",
       "    }\n",
       "\n",
       "    .dataframe tbody tr th {\n",
       "        vertical-align: top;\n",
       "    }\n",
       "\n",
       "    .dataframe thead th {\n",
       "        text-align: right;\n",
       "    }\n",
       "</style>\n",
       "<table border=\"1\" class=\"dataframe\">\n",
       "  <thead>\n",
       "    <tr style=\"text-align: right;\">\n",
       "      <th></th>\n",
       "      <th>neighborhood</th>\n",
       "      <th>overall_qual</th>\n",
       "      <th>ms_zoning</th>\n",
       "      <th>ms_subclass_60_house_style_2Story</th>\n",
       "      <th>lot_area</th>\n",
       "      <th>lot_shape</th>\n",
       "      <th>lot_frontage</th>\n",
       "      <th>paved_drive</th>\n",
       "      <th>totrms_abvgrd</th>\n",
       "      <th>kitchen_qual</th>\n",
       "      <th>fireplaces</th>\n",
       "      <th>fireplace_qu</th>\n",
       "      <th>abv_grd_sf</th>\n",
       "      <th>total_bath</th>\n",
       "      <th>below_grd_sf</th>\n",
       "      <th>overall_bsmt_score</th>\n",
       "      <th>exter_qual</th>\n",
       "      <th>total_outdoor_area</th>\n",
       "      <th>overall_garage_score</th>\n",
       "      <th>foundation_PConc</th>\n",
       "      <th>garage_type_Attchd</th>\n",
       "      <th>garage_type_Detchd</th>\n",
       "      <th>roof_style_Hip</th>\n",
       "      <th>exterior_1st_VinylSd</th>\n",
       "      <th>mas_vnr_type_None</th>\n",
       "      <th>age</th>\n",
       "      <th>electrical</th>\n",
       "      <th>sale_type_New</th>\n",
       "    </tr>\n",
       "  </thead>\n",
       "  <tbody>\n",
       "    <tr>\n",
       "      <th>0</th>\n",
       "      <td>2</td>\n",
       "      <td>6</td>\n",
       "      <td>3</td>\n",
       "      <td>1</td>\n",
       "      <td>13517</td>\n",
       "      <td>2</td>\n",
       "      <td>60.0</td>\n",
       "      <td>2</td>\n",
       "      <td>6</td>\n",
       "      <td>3</td>\n",
       "      <td>0</td>\n",
       "      <td>0</td>\n",
       "      <td>1479</td>\n",
       "      <td>3</td>\n",
       "      <td>1258.0</td>\n",
       "      <td>10</td>\n",
       "      <td>3</td>\n",
       "      <td>808.0</td>\n",
       "      <td>8</td>\n",
       "      <td>0</td>\n",
       "      <td>1</td>\n",
       "      <td>0</td>\n",
       "      <td>0</td>\n",
       "      <td>0</td>\n",
       "      <td>0</td>\n",
       "      <td>5</td>\n",
       "      <td>4</td>\n",
       "      <td>0</td>\n",
       "    </tr>\n",
       "    <tr>\n",
       "      <th>1</th>\n",
       "      <td>2</td>\n",
       "      <td>7</td>\n",
       "      <td>3</td>\n",
       "      <td>1</td>\n",
       "      <td>11492</td>\n",
       "      <td>2</td>\n",
       "      <td>43.0</td>\n",
       "      <td>2</td>\n",
       "      <td>8</td>\n",
       "      <td>3</td>\n",
       "      <td>1</td>\n",
       "      <td>3</td>\n",
       "      <td>2122</td>\n",
       "      <td>4</td>\n",
       "      <td>1550.0</td>\n",
       "      <td>11</td>\n",
       "      <td>3</td>\n",
       "      <td>765.0</td>\n",
       "      <td>8</td>\n",
       "      <td>1</td>\n",
       "      <td>1</td>\n",
       "      <td>0</td>\n",
       "      <td>0</td>\n",
       "      <td>1</td>\n",
       "      <td>0</td>\n",
       "      <td>12</td>\n",
       "      <td>4</td>\n",
       "      <td>0</td>\n",
       "    </tr>\n",
       "    <tr>\n",
       "      <th>2</th>\n",
       "      <td>2</td>\n",
       "      <td>5</td>\n",
       "      <td>3</td>\n",
       "      <td>0</td>\n",
       "      <td>7922</td>\n",
       "      <td>3</td>\n",
       "      <td>68.0</td>\n",
       "      <td>2</td>\n",
       "      <td>5</td>\n",
       "      <td>3</td>\n",
       "      <td>0</td>\n",
       "      <td>0</td>\n",
       "      <td>1057</td>\n",
       "      <td>2</td>\n",
       "      <td>1788.0</td>\n",
       "      <td>10</td>\n",
       "      <td>2</td>\n",
       "      <td>298.0</td>\n",
       "      <td>7</td>\n",
       "      <td>0</td>\n",
       "      <td>0</td>\n",
       "      <td>1</td>\n",
       "      <td>0</td>\n",
       "      <td>1</td>\n",
       "      <td>1</td>\n",
       "      <td>3</td>\n",
       "      <td>4</td>\n",
       "      <td>0</td>\n",
       "    </tr>\n",
       "    <tr>\n",
       "      <th>3</th>\n",
       "      <td>4</td>\n",
       "      <td>5</td>\n",
       "      <td>3</td>\n",
       "      <td>1</td>\n",
       "      <td>9802</td>\n",
       "      <td>3</td>\n",
       "      <td>73.0</td>\n",
       "      <td>2</td>\n",
       "      <td>7</td>\n",
       "      <td>2</td>\n",
       "      <td>0</td>\n",
       "      <td>0</td>\n",
       "      <td>1444</td>\n",
       "      <td>3</td>\n",
       "      <td>384.0</td>\n",
       "      <td>6</td>\n",
       "      <td>2</td>\n",
       "      <td>500.0</td>\n",
       "      <td>9</td>\n",
       "      <td>1</td>\n",
       "      <td>0</td>\n",
       "      <td>0</td>\n",
       "      <td>0</td>\n",
       "      <td>1</td>\n",
       "      <td>1</td>\n",
       "      <td>3</td>\n",
       "      <td>4</td>\n",
       "      <td>0</td>\n",
       "    </tr>\n",
       "    <tr>\n",
       "      <th>4</th>\n",
       "      <td>2</td>\n",
       "      <td>6</td>\n",
       "      <td>3</td>\n",
       "      <td>0</td>\n",
       "      <td>14235</td>\n",
       "      <td>2</td>\n",
       "      <td>82.0</td>\n",
       "      <td>0</td>\n",
       "      <td>6</td>\n",
       "      <td>2</td>\n",
       "      <td>0</td>\n",
       "      <td>0</td>\n",
       "      <td>1445</td>\n",
       "      <td>2</td>\n",
       "      <td>676.0</td>\n",
       "      <td>4</td>\n",
       "      <td>2</td>\n",
       "      <td>543.0</td>\n",
       "      <td>7</td>\n",
       "      <td>1</td>\n",
       "      <td>0</td>\n",
       "      <td>1</td>\n",
       "      <td>0</td>\n",
       "      <td>0</td>\n",
       "      <td>1</td>\n",
       "      <td>17</td>\n",
       "      <td>4</td>\n",
       "      <td>0</td>\n",
       "    </tr>\n",
       "    <tr>\n",
       "      <th>...</th>\n",
       "      <td>...</td>\n",
       "      <td>...</td>\n",
       "      <td>...</td>\n",
       "      <td>...</td>\n",
       "      <td>...</td>\n",
       "      <td>...</td>\n",
       "      <td>...</td>\n",
       "      <td>...</td>\n",
       "      <td>...</td>\n",
       "      <td>...</td>\n",
       "      <td>...</td>\n",
       "      <td>...</td>\n",
       "      <td>...</td>\n",
       "      <td>...</td>\n",
       "      <td>...</td>\n",
       "      <td>...</td>\n",
       "      <td>...</td>\n",
       "      <td>...</td>\n",
       "      <td>...</td>\n",
       "      <td>...</td>\n",
       "      <td>...</td>\n",
       "      <td>...</td>\n",
       "      <td>...</td>\n",
       "      <td>...</td>\n",
       "      <td>...</td>\n",
       "      <td>...</td>\n",
       "      <td>...</td>\n",
       "      <td>...</td>\n",
       "    </tr>\n",
       "    <tr>\n",
       "      <th>2042</th>\n",
       "      <td>4</td>\n",
       "      <td>8</td>\n",
       "      <td>3</td>\n",
       "      <td>0</td>\n",
       "      <td>11449</td>\n",
       "      <td>2</td>\n",
       "      <td>79.0</td>\n",
       "      <td>2</td>\n",
       "      <td>7</td>\n",
       "      <td>3</td>\n",
       "      <td>1</td>\n",
       "      <td>4</td>\n",
       "      <td>1728</td>\n",
       "      <td>3</td>\n",
       "      <td>2895.0</td>\n",
       "      <td>13</td>\n",
       "      <td>3</td>\n",
       "      <td>796.0</td>\n",
       "      <td>9</td>\n",
       "      <td>1</td>\n",
       "      <td>1</td>\n",
       "      <td>0</td>\n",
       "      <td>0</td>\n",
       "      <td>1</td>\n",
       "      <td>1</td>\n",
       "      <td>1</td>\n",
       "      <td>4</td>\n",
       "      <td>0</td>\n",
       "    </tr>\n",
       "    <tr>\n",
       "      <th>2043</th>\n",
       "      <td>1</td>\n",
       "      <td>4</td>\n",
       "      <td>3</td>\n",
       "      <td>0</td>\n",
       "      <td>12342</td>\n",
       "      <td>2</td>\n",
       "      <td>60.0</td>\n",
       "      <td>2</td>\n",
       "      <td>4</td>\n",
       "      <td>2</td>\n",
       "      <td>0</td>\n",
       "      <td>0</td>\n",
       "      <td>861</td>\n",
       "      <td>1</td>\n",
       "      <td>1123.0</td>\n",
       "      <td>8</td>\n",
       "      <td>2</td>\n",
       "      <td>697.0</td>\n",
       "      <td>7</td>\n",
       "      <td>0</td>\n",
       "      <td>0</td>\n",
       "      <td>1</td>\n",
       "      <td>0</td>\n",
       "      <td>1</td>\n",
       "      <td>1</td>\n",
       "      <td>59</td>\n",
       "      <td>4</td>\n",
       "      <td>0</td>\n",
       "    </tr>\n",
       "    <tr>\n",
       "      <th>2044</th>\n",
       "      <td>3</td>\n",
       "      <td>6</td>\n",
       "      <td>3</td>\n",
       "      <td>0</td>\n",
       "      <td>7558</td>\n",
       "      <td>3</td>\n",
       "      <td>57.0</td>\n",
       "      <td>2</td>\n",
       "      <td>9</td>\n",
       "      <td>2</td>\n",
       "      <td>1</td>\n",
       "      <td>3</td>\n",
       "      <td>1913</td>\n",
       "      <td>2</td>\n",
       "      <td>896.0</td>\n",
       "      <td>5</td>\n",
       "      <td>2</td>\n",
       "      <td>342.0</td>\n",
       "      <td>5</td>\n",
       "      <td>0</td>\n",
       "      <td>0</td>\n",
       "      <td>1</td>\n",
       "      <td>0</td>\n",
       "      <td>0</td>\n",
       "      <td>1</td>\n",
       "      <td>59</td>\n",
       "      <td>4</td>\n",
       "      <td>0</td>\n",
       "    </tr>\n",
       "    <tr>\n",
       "      <th>2045</th>\n",
       "      <td>2</td>\n",
       "      <td>4</td>\n",
       "      <td>3</td>\n",
       "      <td>0</td>\n",
       "      <td>10400</td>\n",
       "      <td>3</td>\n",
       "      <td>80.0</td>\n",
       "      <td>2</td>\n",
       "      <td>6</td>\n",
       "      <td>2</td>\n",
       "      <td>2</td>\n",
       "      <td>4</td>\n",
       "      <td>1200</td>\n",
       "      <td>2</td>\n",
       "      <td>1355.0</td>\n",
       "      <td>7</td>\n",
       "      <td>2</td>\n",
       "      <td>623.0</td>\n",
       "      <td>7</td>\n",
       "      <td>0</td>\n",
       "      <td>1</td>\n",
       "      <td>0</td>\n",
       "      <td>0</td>\n",
       "      <td>0</td>\n",
       "      <td>1</td>\n",
       "      <td>53</td>\n",
       "      <td>4</td>\n",
       "      <td>0</td>\n",
       "    </tr>\n",
       "    <tr>\n",
       "      <th>2046</th>\n",
       "      <td>3</td>\n",
       "      <td>7</td>\n",
       "      <td>3</td>\n",
       "      <td>1</td>\n",
       "      <td>7500</td>\n",
       "      <td>3</td>\n",
       "      <td>60.0</td>\n",
       "      <td>2</td>\n",
       "      <td>7</td>\n",
       "      <td>3</td>\n",
       "      <td>1</td>\n",
       "      <td>3</td>\n",
       "      <td>1804</td>\n",
       "      <td>3</td>\n",
       "      <td>994.0</td>\n",
       "      <td>5</td>\n",
       "      <td>2</td>\n",
       "      <td>642.0</td>\n",
       "      <td>9</td>\n",
       "      <td>1</td>\n",
       "      <td>1</td>\n",
       "      <td>0</td>\n",
       "      <td>0</td>\n",
       "      <td>1</td>\n",
       "      <td>1</td>\n",
       "      <td>11</td>\n",
       "      <td>4</td>\n",
       "      <td>0</td>\n",
       "    </tr>\n",
       "  </tbody>\n",
       "</table>\n",
       "<p>2047 rows × 28 columns</p>\n",
       "</div>"
      ],
      "text/plain": [
       "      neighborhood  overall_qual  ms_zoning  \\\n",
       "0                2             6          3   \n",
       "1                2             7          3   \n",
       "2                2             5          3   \n",
       "3                4             5          3   \n",
       "4                2             6          3   \n",
       "...            ...           ...        ...   \n",
       "2042             4             8          3   \n",
       "2043             1             4          3   \n",
       "2044             3             6          3   \n",
       "2045             2             4          3   \n",
       "2046             3             7          3   \n",
       "\n",
       "      ms_subclass_60_house_style_2Story  lot_area  lot_shape  lot_frontage  \\\n",
       "0                                     1     13517          2          60.0   \n",
       "1                                     1     11492          2          43.0   \n",
       "2                                     0      7922          3          68.0   \n",
       "3                                     1      9802          3          73.0   \n",
       "4                                     0     14235          2          82.0   \n",
       "...                                 ...       ...        ...           ...   \n",
       "2042                                  0     11449          2          79.0   \n",
       "2043                                  0     12342          2          60.0   \n",
       "2044                                  0      7558          3          57.0   \n",
       "2045                                  0     10400          3          80.0   \n",
       "2046                                  1      7500          3          60.0   \n",
       "\n",
       "      paved_drive  totrms_abvgrd  kitchen_qual  fireplaces  fireplace_qu  \\\n",
       "0               2              6             3           0             0   \n",
       "1               2              8             3           1             3   \n",
       "2               2              5             3           0             0   \n",
       "3               2              7             2           0             0   \n",
       "4               0              6             2           0             0   \n",
       "...           ...            ...           ...         ...           ...   \n",
       "2042            2              7             3           1             4   \n",
       "2043            2              4             2           0             0   \n",
       "2044            2              9             2           1             3   \n",
       "2045            2              6             2           2             4   \n",
       "2046            2              7             3           1             3   \n",
       "\n",
       "      abv_grd_sf  total_bath  below_grd_sf  overall_bsmt_score  exter_qual  \\\n",
       "0           1479           3        1258.0                  10           3   \n",
       "1           2122           4        1550.0                  11           3   \n",
       "2           1057           2        1788.0                  10           2   \n",
       "3           1444           3         384.0                   6           2   \n",
       "4           1445           2         676.0                   4           2   \n",
       "...          ...         ...           ...                 ...         ...   \n",
       "2042        1728           3        2895.0                  13           3   \n",
       "2043         861           1        1123.0                   8           2   \n",
       "2044        1913           2         896.0                   5           2   \n",
       "2045        1200           2        1355.0                   7           2   \n",
       "2046        1804           3         994.0                   5           2   \n",
       "\n",
       "      total_outdoor_area  overall_garage_score  foundation_PConc  \\\n",
       "0                  808.0                     8                 0   \n",
       "1                  765.0                     8                 1   \n",
       "2                  298.0                     7                 0   \n",
       "3                  500.0                     9                 1   \n",
       "4                  543.0                     7                 1   \n",
       "...                  ...                   ...               ...   \n",
       "2042               796.0                     9                 1   \n",
       "2043               697.0                     7                 0   \n",
       "2044               342.0                     5                 0   \n",
       "2045               623.0                     7                 0   \n",
       "2046               642.0                     9                 1   \n",
       "\n",
       "      garage_type_Attchd  garage_type_Detchd  roof_style_Hip  \\\n",
       "0                      1                   0               0   \n",
       "1                      1                   0               0   \n",
       "2                      0                   1               0   \n",
       "3                      0                   0               0   \n",
       "4                      0                   1               0   \n",
       "...                  ...                 ...             ...   \n",
       "2042                   1                   0               0   \n",
       "2043                   0                   1               0   \n",
       "2044                   0                   1               0   \n",
       "2045                   1                   0               0   \n",
       "2046                   1                   0               0   \n",
       "\n",
       "      exterior_1st_VinylSd  mas_vnr_type_None  age  electrical  sale_type_New  \n",
       "0                        0                  0    5           4              0  \n",
       "1                        1                  0   12           4              0  \n",
       "2                        1                  1    3           4              0  \n",
       "3                        1                  1    3           4              0  \n",
       "4                        0                  1   17           4              0  \n",
       "...                    ...                ...  ...         ...            ...  \n",
       "2042                     1                  1    1           4              0  \n",
       "2043                     1                  1   59           4              0  \n",
       "2044                     0                  1   59           4              0  \n",
       "2045                     0                  1   53           4              0  \n",
       "2046                     1                  1   11           4              0  \n",
       "\n",
       "[2047 rows x 28 columns]"
      ]
     },
     "execution_count": 102,
     "metadata": {},
     "output_type": "execute_result"
    }
   ],
   "source": [
    "X_train_final"
   ]
  },
  {
   "cell_type": "markdown",
   "id": "3b312579",
   "metadata": {},
   "source": [
    "<div id=\"3.1.5\"></div>\n",
    "\n",
    "#### 3.1.5 Test Dataset Application"
   ]
  },
  {
   "cell_type": "code",
   "execution_count": 103,
   "id": "1c88dd28",
   "metadata": {},
   "outputs": [],
   "source": [
    "# Scale final train/sets\n",
    "ss = StandardScaler()\n",
    "X_train_final_scaled = ss.fit_transform(X_train_final)\n",
    "X_test_final_scaled = ss.transform(X_test_final)\n"
   ]
  },
  {
   "cell_type": "code",
   "execution_count": 104,
   "id": "eb3dd4f5",
   "metadata": {},
   "outputs": [
    {
     "name": "stdout",
     "output_type": "stream",
     "text": [
      "0.009754274369461368\n",
      "0.0925\n"
     ]
    }
   ],
   "source": [
    "# Calculate optimal alpha and l1-ratio for production model\n",
    "l1_ratios = np.linspace(0.01, 1.0, 25)\n",
    "optimal_enet = ElasticNetCV(l1_ratio = l1_ratios, n_alphas = 100, cv = 10)\n",
    "optimal_enet.fit(X_train_final_scaled, y_train_final)\n",
    "\n",
    "print(optimal_enet.alpha_)\n",
    "print(optimal_enet.l1_ratio_)\n"
   ]
  },
  {
   "cell_type": "code",
   "execution_count": 105,
   "id": "5954a3a1",
   "metadata": {},
   "outputs": [
    {
     "data": {
      "text/plain": [
       "ElasticNet(alpha=0.009754274369461368, l1_ratio=0.0925)"
      ]
     },
     "execution_count": 105,
     "metadata": {},
     "output_type": "execute_result"
    }
   ],
   "source": [
    "# Generate production model\n",
    "enet_final = ElasticNet(alpha = optimal_enet.alpha_, l1_ratio = optimal_enet.l1_ratio_)\n",
    "enet_final.fit(X_train_final_scaled, y_train_final)\n"
   ]
  },
  {
   "cell_type": "code",
   "execution_count": 106,
   "id": "e3eb28be",
   "metadata": {},
   "outputs": [
    {
     "name": "stdout",
     "output_type": "stream",
     "text": [
      "Train R2 Score: 0.8969\n",
      "Train Cross-validation Scores: [0.8365 0.8897 0.8978 0.9311 0.8972 0.9252 0.9101 0.8139 0.9216 0.9292]\n",
      "Train Mean Cross-validation Score: 0.8952\n",
      "Train Cross-val RMSE Score: 26518.88453260017\n"
     ]
    }
   ],
   "source": [
    "# R2 and RMSE scores for full train dataset based on production model\n",
    "train_scores(enet_final, X_train_final_scaled, y_train_final)\n",
    "\n"
   ]
  },
  {
   "cell_type": "markdown",
   "id": "c82587ab",
   "metadata": {},
   "source": [
    "As access to the target variable (sale price) for the test dataset is not granted, we are only able to assess the R2-score using the full train dataset (i.e. without train/test and cross-validation splits). There is a slight decrease observed in R2 and RMSE scores for the full train dataset when applying the production model, but still acceptable on a whole as the decrease is only marginal. The consistently average R2 score of about 0.9 is well within the established parameter for accuracy in 1.1.3 (The Data Science Problem - Model Framework), which allows for a minimum R2 score of 0.85 based on a maximum degradation rate of 15%. As such, the model has achieved it's first goal of being *accurate*."
   ]
  },
  {
   "cell_type": "code",
   "execution_count": 107,
   "id": "a282986b",
   "metadata": {},
   "outputs": [
    {
     "data": {
      "text/plain": [
       "array([11.74461993, 12.02514542, 12.32541558, 11.56185787, 12.01076164,\n",
       "       11.49854669, 11.60448749, 11.90710553, 12.0881094 , 11.99000142,\n",
       "       11.95916051, 11.72756805, 11.86772035, 12.53443362, 11.9558025 ,\n",
       "       11.71872063, 11.92551289, 11.63247645, 12.16860346, 12.20191399,\n",
       "       11.85608635, 11.71399332, 12.08502518, 12.030749  , 12.04852074,\n",
       "       11.72219793, 11.85204127, 11.68742858, 11.92146518, 11.00915276,\n",
       "       11.59121382, 11.46114754, 12.24095979, 12.0221514 , 12.2476912 ,\n",
       "       12.12052146, 11.60893067, 11.37992898, 11.69205007, 12.12488944,\n",
       "       11.98022743, 12.25609303, 11.88774031, 11.9976429 , 12.30866395,\n",
       "       11.52951375, 12.3022177 , 11.74184073, 11.73629432, 11.77407492,\n",
       "       11.61361671, 12.03994698, 12.34193466, 11.77054126, 11.61614777,\n",
       "       11.90992474, 11.83598922, 11.88734273, 12.05066671, 12.35128305,\n",
       "       12.74027685, 11.84677173, 11.90404385, 12.09514487, 12.03498795,\n",
       "       12.60744635, 11.51325938, 12.18274541, 11.48447774, 12.00089901,\n",
       "       11.42237619, 12.85733676, 12.21501685, 12.08150312, 11.74729461,\n",
       "       12.19866109, 11.91123303, 11.91901603, 11.48841461, 12.85489488,\n",
       "       12.17420252, 11.75170354, 11.82699299, 11.72625145, 12.20854089,\n",
       "       12.69345327, 11.73155625, 12.1076647 , 12.36658924, 11.78762709,\n",
       "       11.82203424, 11.648471  , 11.60518136, 12.27553936, 11.71967331,\n",
       "       11.85770882, 11.94051948, 12.31420079, 12.10202787, 12.29098354,\n",
       "       12.64748035, 12.01980834, 11.71796756, 13.19225613, 11.93901951,\n",
       "       11.56694161, 12.09310062, 12.24439324, 12.06751941, 11.82844332,\n",
       "       12.05314556, 12.31763573, 11.66063451, 11.76690893, 12.37817674,\n",
       "       13.42743521, 11.78567791, 11.6044757 , 12.67025598, 12.18253481,\n",
       "       13.00109186, 12.56571828, 12.62293765, 12.05674172, 11.71081198,\n",
       "       12.85768465, 11.77542788, 11.82991302, 11.7557126 , 12.47963267,\n",
       "       11.84165353, 12.20896755, 11.86087499, 12.06608081, 11.98546936,\n",
       "       12.33296707, 12.20949618, 12.01964638, 12.21660842, 11.75412134,\n",
       "       12.15326682, 11.81584544, 11.83076616, 12.07871444, 11.47593137,\n",
       "       11.6937569 , 11.82298836, 11.92426134, 11.17961094, 12.31040096,\n",
       "       12.19449838, 11.91230545, 11.55484856, 11.77269823, 11.51235094,\n",
       "       11.75248102, 11.36582823, 11.90953853, 12.37772906, 12.41665246,\n",
       "       12.27715509, 11.73482666, 11.82521069, 13.25416376, 12.42222992,\n",
       "       12.3916536 , 12.02804403, 12.04225913, 12.53908249, 12.15964487,\n",
       "       13.60100696, 11.84567454, 12.01981865, 11.95040807, 12.21577186,\n",
       "       12.08082306, 11.3535245 , 12.03783144, 11.50009955, 11.78565566,\n",
       "       11.5535751 , 12.16759257, 12.45924958, 12.17482349, 11.93818032,\n",
       "       11.61803938, 12.23724345, 12.17177449, 11.66281084, 11.2239468 ,\n",
       "       12.15389126, 11.7421595 , 11.5761663 , 11.65220464, 12.13211329,\n",
       "       11.88380429, 12.58205534, 11.8304951 , 11.83588116, 11.62516946,\n",
       "       12.62000866, 12.04059589, 11.80108367, 12.1001092 , 11.84199197,\n",
       "       11.39087976, 11.84860553, 11.81414583, 12.28164372, 12.29333077,\n",
       "       12.18486884, 12.16690975, 11.62944751, 13.71424531, 12.49376398,\n",
       "       12.18427932, 12.31458025, 11.81998358, 11.45239832, 11.85323706,\n",
       "       12.11290254, 11.83631008, 11.99534216, 12.16277602, 11.66164224,\n",
       "       11.44799947, 12.41716366, 12.27551796, 11.89783019, 12.45779072,\n",
       "       11.99959375, 11.31427842, 11.82544416, 11.52922035, 12.78608938,\n",
       "       12.11414951, 11.38569082, 13.07834178, 12.89917463, 12.18280072,\n",
       "       12.4895287 , 11.98130222, 12.59273254, 12.33684411, 12.71376044,\n",
       "       12.41774942, 11.74691481, 11.64949651, 12.0757081 , 12.6205568 ,\n",
       "       12.57842462, 11.94699415, 12.39106936, 12.33101535, 12.26042086,\n",
       "       11.46261026, 11.39428527, 13.10383883, 12.31233811, 12.40693867,\n",
       "       12.18879952, 11.80183739, 11.70912101, 11.86922134, 12.50691243,\n",
       "       11.88447406, 11.81900092, 12.2109167 , 11.96170258, 11.88631769,\n",
       "       12.12587542, 12.17784731, 11.80615708, 12.71948776, 11.62909339,\n",
       "       11.82865176, 11.94485519, 12.15399288, 11.50950668, 11.71245105,\n",
       "       12.33530681, 11.7284813 , 11.66836748, 11.50945401, 11.76912116,\n",
       "       12.47070993, 12.19061917, 11.63454471, 11.46922807, 11.7408156 ,\n",
       "       11.64596877, 11.82045007, 11.47605635, 11.51560884, 11.98184823,\n",
       "       11.99385075, 12.17471806, 12.46069741, 12.4868217 , 11.91573829,\n",
       "       12.01760126, 12.72160635, 11.7212458 , 11.8083219 , 11.43886541,\n",
       "       11.58531447, 13.11662947, 12.19468284, 11.73310045, 11.74492556,\n",
       "       12.26836809, 12.27232089, 12.42170846, 12.55020682, 11.7183211 ,\n",
       "       12.83324771, 12.88913094, 12.419481  , 12.32818869, 11.68244232,\n",
       "       11.12510003, 11.67591909, 11.79209056, 12.39751891, 11.77845177,\n",
       "       11.80419498, 11.89777847, 12.09527839, 12.21304639, 11.83233151,\n",
       "       11.95356261, 12.13468745, 11.88116504, 12.23795884, 11.44409511,\n",
       "       11.99843654, 11.52849634, 11.55007858, 11.79398658, 12.03152351,\n",
       "       12.25815432, 11.45167026, 11.71178482, 12.10664968, 12.59457253,\n",
       "       12.40577555, 12.08153144, 11.63533547, 12.30452346, 11.87325256,\n",
       "       11.79439162, 11.9261085 , 11.70472865, 12.62922017, 11.74716268,\n",
       "       12.45929476, 11.9342241 , 12.24127056, 12.39704319, 11.51661369,\n",
       "       11.85356405, 11.96289978, 11.48334922, 11.91113709, 12.19365155,\n",
       "       12.51668133, 12.29558159, 12.1921098 , 12.29210086, 11.61969259,\n",
       "       12.17554841, 11.65197887, 11.7524404 , 12.91822064, 11.73349578,\n",
       "       12.58288333, 12.05158946, 12.48694636, 12.2537543 , 11.76914275,\n",
       "       11.96100131, 11.81886455, 12.78231639, 12.7012903 , 12.31097796,\n",
       "       12.04723098, 11.90633018, 12.13948449, 11.79188336, 11.73087179,\n",
       "       11.57894975, 12.62342977, 11.89391238, 11.77243921, 12.10619105,\n",
       "       11.13858552, 12.11839626, 12.15805553, 11.76130187, 11.46588479,\n",
       "       12.33026106, 12.38748186, 11.73523031, 12.45042921, 11.84366266,\n",
       "       11.71350453, 11.78332846, 12.29306405, 12.54772848, 11.70678195,\n",
       "       11.66814404, 11.81161977, 12.44265017, 11.79166777, 12.50942684,\n",
       "       12.74379396, 11.81130207, 12.4314126 , 11.6295515 , 12.02183458,\n",
       "       12.39359319, 11.73501855, 12.38211895, 11.74419334, 12.30853559,\n",
       "       12.95076699, 12.24150471, 12.24215298, 11.81677315, 12.59515637,\n",
       "       11.45006617, 11.77138789, 11.76222341, 12.19513109, 11.52986326,\n",
       "       12.65639965, 12.20975494, 12.02417549, 11.97443965, 11.99641298,\n",
       "       12.20441114, 11.83818061, 11.71266193, 12.08462229, 11.99776312,\n",
       "       12.30131628, 11.2075485 , 11.35796681, 12.60500966, 11.91704756,\n",
       "       12.24879718, 12.56311299, 12.32253676, 11.90098442, 12.17179345,\n",
       "       12.35846746, 12.291853  , 11.68348852, 12.40274241, 11.63731944,\n",
       "       11.90590048, 11.80113252, 11.88085758, 13.58155101, 11.60986876,\n",
       "       12.28315319, 12.38904605, 12.31078316, 11.74315552, 11.71403557,\n",
       "       11.82977079, 12.3505028 , 12.12219792, 11.66264359, 12.38669596,\n",
       "       12.29693044, 11.62030694, 11.92597414, 11.62322056, 12.16674292,\n",
       "       11.25249175, 12.31735418, 11.51777164, 12.12140512, 12.61978889,\n",
       "       11.92119303, 12.01852852, 12.15125904, 12.17651027, 11.8233888 ,\n",
       "       11.94180947, 12.23785027, 12.0006993 , 12.32175338, 12.88058617,\n",
       "       12.1454095 , 11.5444047 , 11.61331723, 12.02613851, 11.71132208,\n",
       "       12.17377442, 12.29297086, 12.20199579, 11.96646402, 12.4976234 ,\n",
       "       11.79544334, 12.51235829, 11.46966017, 11.67712169, 12.41473904,\n",
       "       11.80668524, 11.74336622, 11.79360285, 11.78268594, 11.15318049,\n",
       "       12.02730856, 11.9511634 , 12.22524854, 12.4194623 , 12.53524018,\n",
       "       11.6332802 , 11.67875897, 11.81894888, 11.78159657, 12.30413267,\n",
       "       13.05917968, 12.13509059, 11.566775  , 11.7329491 , 11.03065576,\n",
       "       11.7553336 , 12.15179227, 11.93322753, 12.09376433, 11.95625977,\n",
       "       11.77385793, 11.37286103, 12.36586017, 11.90856106, 12.02749148,\n",
       "       11.87023564, 11.53825512, 11.45103403, 11.84491165, 12.28202447,\n",
       "       12.73488608, 12.4308559 , 11.59913443, 11.60804819, 12.57391517,\n",
       "       11.67989838, 12.51987774, 11.42317473, 12.19733697, 12.30467835,\n",
       "       11.3321478 , 11.64531279, 11.88412295, 11.58288735, 11.9988332 ,\n",
       "       11.68623409, 12.0176767 , 12.09641671, 11.83214318, 11.81407195,\n",
       "       11.75962996, 11.74684022, 12.25934256, 11.65567286, 11.89759361,\n",
       "       11.92496921, 11.75242308, 11.46574249, 11.91013208, 12.05538059,\n",
       "       11.66774815, 12.08730571, 11.95252141, 12.26846613, 11.68621346,\n",
       "       11.63616022, 11.91778159, 12.53866731, 11.46439193, 11.90414967,\n",
       "       11.94579826, 11.95163967, 11.69862353, 12.62677746, 12.33516858,\n",
       "       11.65577971, 11.60334603, 11.73997704, 11.64902352, 12.80767986,\n",
       "       12.30796891, 11.60074533, 11.79854208, 11.64849235, 12.82255467,\n",
       "       11.75962353, 12.19485148, 11.80760652, 12.16268032, 12.35656819,\n",
       "       11.53880431, 11.65757333, 11.67053623, 11.97020225, 11.79682026,\n",
       "       11.50819919, 12.8387065 , 12.30699123, 11.7794318 , 11.78637397,\n",
       "       10.97387568, 12.22403907, 12.55004345, 11.19038203, 12.0848191 ,\n",
       "       12.1761227 , 11.6644646 , 11.88527109, 11.7114786 , 11.7355891 ,\n",
       "       11.89131557, 12.14699741, 11.67341005, 12.78249794, 11.87754025,\n",
       "       12.13037517, 12.13205537, 11.77568863, 11.34078586, 11.86680066,\n",
       "       12.10107551, 11.9219173 , 11.95721616, 11.81259532, 11.85172256,\n",
       "       12.69112869, 11.75063057, 12.33673054, 12.45014237, 11.93916171,\n",
       "       11.22541282, 12.39031016, 12.08863854, 11.81562211, 12.15559066,\n",
       "       11.77107935, 11.68714754, 11.59249875, 11.85180537, 11.23188226,\n",
       "       11.83936623, 12.23737209, 11.81105087, 12.50928736, 12.09456446,\n",
       "       11.95374721, 12.12705301, 12.11564053, 12.39698718, 13.01187031,\n",
       "       12.36574214, 12.17409823, 12.01840566, 12.11496431, 12.58737517,\n",
       "       12.30885005, 12.48582724, 12.3616201 , 11.71271268, 11.7112907 ,\n",
       "       11.81260462, 11.90622581, 11.5678594 , 11.8803232 , 11.70153532,\n",
       "       12.82773712, 12.24913928, 12.07164738, 12.40985323, 12.14593736,\n",
       "       11.96844975, 12.21985151, 12.91752206, 11.77485953, 12.03650849,\n",
       "       11.31577115, 11.6895182 , 12.50942199, 11.67417975, 12.26276402,\n",
       "       12.03953342, 12.30068666, 12.79533084, 11.61930002, 12.41482546,\n",
       "       11.99800786, 11.86029897, 11.89744563, 11.73802327, 12.65289243,\n",
       "       12.47288284, 11.96621001, 11.8305619 , 11.53927153, 12.61177448,\n",
       "       12.3073419 , 11.49472835, 11.78126911, 11.79138962, 11.71382927,\n",
       "       12.41274075, 12.69661013, 12.29178138, 12.14246145, 12.26208495,\n",
       "       12.25790533, 12.43115429, 11.82610328, 11.64541792, 12.61387875,\n",
       "       12.0970852 , 12.1747529 , 11.67280265, 12.44814789, 11.47033841,\n",
       "       12.36637374, 12.13246397, 12.41740985, 11.88832953, 12.05577885,\n",
       "       11.93986697, 11.77791504, 11.98729847, 11.92384659, 11.82025663,\n",
       "       12.34913767, 12.06069914, 11.88639011, 11.68912562, 12.06971699,\n",
       "       12.00030492, 12.17655343, 12.24713896, 11.66784764, 12.78567521,\n",
       "       12.39484435, 11.76712001, 11.85953232, 11.98064736, 11.83665649,\n",
       "       11.72725711, 13.15158644, 11.25890805, 11.88267899, 12.32204018,\n",
       "       11.8752744 , 12.31054497, 11.79457884, 12.41808611, 11.94666474,\n",
       "       12.74689491, 12.10537105, 12.1705639 , 12.70605228, 11.9407522 ,\n",
       "       12.4213809 , 11.86675174, 11.93209336, 12.20435079, 11.67901745,\n",
       "       11.89149679, 12.26718826, 11.86441598, 11.67539024, 12.01230535,\n",
       "       12.08669258, 12.89687886, 11.452745  , 11.8054536 , 11.57181871,\n",
       "       11.97148685, 12.41853431, 11.76141052, 12.47172884, 12.03694796,\n",
       "       12.16130055, 12.31687664, 12.08673322, 12.55304673, 12.07466087,\n",
       "       12.25846806, 11.98718326, 12.2772897 , 12.39933375, 12.31051508,\n",
       "       11.75970991, 11.51111887, 12.01729046, 11.39822066, 12.39721147,\n",
       "       11.61528628, 11.668052  , 12.14062805, 11.80037215, 11.67008002,\n",
       "       11.80204194, 12.63982538, 11.96098239, 12.07172917, 12.34297792,\n",
       "       12.20805211, 12.23061578, 11.42825483, 11.52665218, 11.8811706 ,\n",
       "       12.04508541, 11.66758536, 12.8688326 , 11.66934462, 12.07170262,\n",
       "       12.30325926, 13.02915698, 11.88165652, 12.10205023, 11.84099902,\n",
       "       12.05689621, 11.92893079, 12.57973268, 12.27094932, 11.89963625,\n",
       "       11.75533702, 12.68368374, 11.8820047 , 11.82250318, 11.7776466 ,\n",
       "       12.26076632, 12.15175786, 12.37826811, 11.776363  , 12.05726188,\n",
       "       12.10297678, 12.43647198, 12.40442663, 11.68992626, 11.95206782,\n",
       "       11.99324982, 11.95251499, 11.73827239, 11.85235408, 11.84381775,\n",
       "       11.56917732, 12.26693192, 11.54850787, 12.1567862 , 11.61536545,\n",
       "       12.85158995, 11.89916731, 11.71087332, 11.98054943, 11.9897745 ,\n",
       "       12.13639563, 12.11555985, 12.37676492, 12.07908886, 12.0382011 ,\n",
       "       12.5505011 , 12.63524805, 12.24732853, 12.13977561, 12.25868478,\n",
       "       11.75515279, 11.63882587, 11.75400996])"
      ]
     },
     "execution_count": 107,
     "metadata": {},
     "output_type": "execute_result"
    }
   ],
   "source": [
    "# Predicted housing prices for test dataset based on production model (moment of truth!!)\n",
    "y_test_final = enet_final.predict(X_test_final_scaled)\n",
    "\n",
    "y_test_final\n"
   ]
  },
  {
   "cell_type": "code",
   "execution_count": 108,
   "id": "092936e9",
   "metadata": {},
   "outputs": [],
   "source": [
    "# Kaggle submission\n",
    "submission = pd.DataFrame()\n",
    "submission['ID'] = test_raw_df['id']\n",
    "submission['SalePrice'] = np.exp(y_test_final)\n"
   ]
  },
  {
   "cell_type": "code",
   "execution_count": 117,
   "id": "6d644a26",
   "metadata": {},
   "outputs": [],
   "source": [
    "submission.to_csv('../data/submission2.csv',index = False)\n"
   ]
  },
  {
   "cell_type": "markdown",
   "id": "fe5de963",
   "metadata": {},
   "source": [
    "<img src = \" ../images/kaggle_score.png\" alt = \"kaggle_score\"/>\n",
    "\n",
    "*Fig 3.1 Kaggle Score*\n",
    "\n",
    "The kaggle score of 26,075 (measured as a RMSE) is within the range of the Train Cross-val RMSE (26,339.8375) and Test RMSE (20,421.308) scores, which may be interpreted as the production model being reasonably robust and maintaining a decent level of precision when applied to a completely new dataset (i.e. low variance). Reading the kaggle score from the project's perspective: for the test dataset, the difference between the actual house sale price and predicted house sale price is USD26,075 on average. \n",
    "\n",
    "As the housing sale prices in the test dataset is not made available, our next best alternative is to take reference to the train dataset, working on the assumption that both have similar pricing models (which is not too farfetched given the RMSE values). As computed in 1.2.2 Examine Target Variable (Sale Price), the mean sale price for a house in Ames between 2006 to 2010 is USD181,469 (rounded to nearest integer). Applying the maxiumum allowable degradation rate of 15% established in 1.1.3 (The Data Science Problem - Model Framework), the permissible RMSE is USD181,469 x 0.15 = USD27,220. As the kaggle score is lower than the permissible RMSE, our model has achieved another of it's key objective of being *applicable*. \n"
   ]
  },
  {
   "cell_type": "markdown",
   "id": "75afb006",
   "metadata": {},
   "source": [
    "<div id=\"section2\"></div>\n",
    "\n",
    "### Section 2 (Recommendations)\n",
    "\n",
    "Wrapping up, we consider the main underlying assumptions of the production model before putting forth recommendations. The project will end of by surfacing areas for further improvement and study. "
   ]
  },
  {
   "cell_type": "markdown",
   "id": "cf55e93c",
   "metadata": {},
   "source": [
    "<div id=\"3.2.1\"></div>\n",
    "\n",
    "#### 3.2.1 Primary Assumptions\n",
    "\n",
    "While there are a plethora of assumptions given the multifacetedness nature of the production model, we only focus on two primary assumptions pivotal to the model's validity: \n",
    "- Hedonic Pricing Method: From the project's onset in Part 1.1.4 (The Data Science Problem - Additional Research), the conceptual foundation for the eventual production model was laid by asserting that houses prices are based on a hedonic pricing method, thereby providing the economic justification in adopting regression techniques for the production model. Granted that this is largely true as elucidated by the project's findings (i.e. house prices are strongly correlated to selected variables such as living area, overall quality and age), there will always be a handful of observations which do not conform to a hedonic pricing method. This is best exemplified by the presence of outliers, which any model - regardless of the refinement cycles underwent - will not be able to predict.   \n",
    "\n",
    "- Target Variable Applicability: Under Part 1.2.2 (EDA - Examine Target Variable (Sale Price)), the effect of the US subprime mortgage crisis was acknowledged, especially its influence on dwindling housing sale prices from 2007 to 2010. In other words, the production model was built upon using a curated set of features to predict Ames housing prices of perculiar time period. Therefore, the model must be cautiously applied in other temporal context as the housing sale prices over subject time period are likely to be artificially deflated and hence, its applicability compromised. \n"
   ]
  },
  {
   "cell_type": "markdown",
   "id": "d06333d3",
   "metadata": {},
   "source": [
    "<div id=\"3.2.2\"></div>\n",
    "\n",
    "#### 3.2.2 Recommendations\n"
   ]
  },
  {
   "cell_type": "code",
   "execution_count": 109,
   "id": "89e0dfce",
   "metadata": {},
   "outputs": [],
   "source": [
    "lr = LinearRegression()\n",
    "lr.fit(X_train_final, y_train_final)\n",
    "unscaled_coef = lr.coef_\n"
   ]
  },
  {
   "cell_type": "code",
   "execution_count": 110,
   "id": "556728ac",
   "metadata": {},
   "outputs": [],
   "source": [
    "transformed_coef = []\n",
    "for i in unscaled_coef:\n",
    "    j = np.exp(i)\n",
    "    transformed_coef.append(j)\n",
    "    "
   ]
  },
  {
   "cell_type": "code",
   "execution_count": 111,
   "id": "d115cb9f",
   "metadata": {},
   "outputs": [
    {
     "data": {
      "text/html": [
       "<div>\n",
       "<style scoped>\n",
       "    .dataframe tbody tr th:only-of-type {\n",
       "        vertical-align: middle;\n",
       "    }\n",
       "\n",
       "    .dataframe tbody tr th {\n",
       "        vertical-align: top;\n",
       "    }\n",
       "\n",
       "    .dataframe thead th {\n",
       "        text-align: right;\n",
       "    }\n",
       "</style>\n",
       "<table border=\"1\" class=\"dataframe\">\n",
       "  <thead>\n",
       "    <tr style=\"text-align: right;\">\n",
       "      <th></th>\n",
       "      <th>variable</th>\n",
       "      <th>1-unit change</th>\n",
       "    </tr>\n",
       "  </thead>\n",
       "  <tbody>\n",
       "    <tr>\n",
       "      <th>0</th>\n",
       "      <td>neighborhood</td>\n",
       "      <td>7615.942703</td>\n",
       "    </tr>\n",
       "    <tr>\n",
       "      <th>1</th>\n",
       "      <td>overall_qual</td>\n",
       "      <td>13179.572221</td>\n",
       "    </tr>\n",
       "    <tr>\n",
       "      <th>2</th>\n",
       "      <td>ms_zoning</td>\n",
       "      <td>-3642.617223</td>\n",
       "    </tr>\n",
       "    <tr>\n",
       "      <th>3</th>\n",
       "      <td>ms_subclass_60_house_style_2Story</td>\n",
       "      <td>-2027.315593</td>\n",
       "    </tr>\n",
       "    <tr>\n",
       "      <th>4</th>\n",
       "      <td>lot_area</td>\n",
       "      <td>1.046944</td>\n",
       "    </tr>\n",
       "    <tr>\n",
       "      <th>5</th>\n",
       "      <td>lot_shape</td>\n",
       "      <td>-1656.057044</td>\n",
       "    </tr>\n",
       "    <tr>\n",
       "      <th>6</th>\n",
       "      <td>lot_frontage</td>\n",
       "      <td>162.660922</td>\n",
       "    </tr>\n",
       "    <tr>\n",
       "      <th>7</th>\n",
       "      <td>paved_drive</td>\n",
       "      <td>12171.433018</td>\n",
       "    </tr>\n",
       "    <tr>\n",
       "      <th>8</th>\n",
       "      <td>totrms_abvgrd</td>\n",
       "      <td>1004.843304</td>\n",
       "    </tr>\n",
       "    <tr>\n",
       "      <th>9</th>\n",
       "      <td>kitchen_qual</td>\n",
       "      <td>6849.348896</td>\n",
       "    </tr>\n",
       "    <tr>\n",
       "      <th>10</th>\n",
       "      <td>fireplaces</td>\n",
       "      <td>4732.7012</td>\n",
       "    </tr>\n",
       "    <tr>\n",
       "      <th>11</th>\n",
       "      <td>fireplace_qu</td>\n",
       "      <td>640.647012</td>\n",
       "    </tr>\n",
       "    <tr>\n",
       "      <th>12</th>\n",
       "      <td>abv_grd_sf</td>\n",
       "      <td>38.298198</td>\n",
       "    </tr>\n",
       "    <tr>\n",
       "      <th>13</th>\n",
       "      <td>total_bath</td>\n",
       "      <td>1443.614632</td>\n",
       "    </tr>\n",
       "    <tr>\n",
       "      <th>14</th>\n",
       "      <td>below_grd_sf</td>\n",
       "      <td>14.309874</td>\n",
       "    </tr>\n",
       "    <tr>\n",
       "      <th>15</th>\n",
       "      <td>overall_bsmt_score</td>\n",
       "      <td>1346.881826</td>\n",
       "    </tr>\n",
       "    <tr>\n",
       "      <th>16</th>\n",
       "      <td>exter_qual</td>\n",
       "      <td>2418.511717</td>\n",
       "    </tr>\n",
       "    <tr>\n",
       "      <th>17</th>\n",
       "      <td>total_outdoor_area</td>\n",
       "      <td>9.450362</td>\n",
       "    </tr>\n",
       "    <tr>\n",
       "      <th>18</th>\n",
       "      <td>overall_garage_score</td>\n",
       "      <td>1759.104928</td>\n",
       "    </tr>\n",
       "    <tr>\n",
       "      <th>19</th>\n",
       "      <td>foundation_PConc</td>\n",
       "      <td>4858.936412</td>\n",
       "    </tr>\n",
       "    <tr>\n",
       "      <th>20</th>\n",
       "      <td>garage_type_Attchd</td>\n",
       "      <td>1300.893231</td>\n",
       "    </tr>\n",
       "    <tr>\n",
       "      <th>21</th>\n",
       "      <td>garage_type_Detchd</td>\n",
       "      <td>1176.926573</td>\n",
       "    </tr>\n",
       "    <tr>\n",
       "      <th>22</th>\n",
       "      <td>roof_style_Hip</td>\n",
       "      <td>2686.491276</td>\n",
       "    </tr>\n",
       "    <tr>\n",
       "      <th>23</th>\n",
       "      <td>exterior_1st_VinylSd</td>\n",
       "      <td>-773.680083</td>\n",
       "    </tr>\n",
       "    <tr>\n",
       "      <th>24</th>\n",
       "      <td>mas_vnr_type_None</td>\n",
       "      <td>3106.546515</td>\n",
       "    </tr>\n",
       "    <tr>\n",
       "      <th>25</th>\n",
       "      <td>age</td>\n",
       "      <td>-342.893346</td>\n",
       "    </tr>\n",
       "    <tr>\n",
       "      <th>26</th>\n",
       "      <td>electrical</td>\n",
       "      <td>4053.563483</td>\n",
       "    </tr>\n",
       "    <tr>\n",
       "      <th>27</th>\n",
       "      <td>sale_type_New</td>\n",
       "      <td>9330.296237</td>\n",
       "    </tr>\n",
       "  </tbody>\n",
       "</table>\n",
       "</div>"
      ],
      "text/plain": [
       "                             variable 1-unit change\n",
       "0                        neighborhood   7615.942703\n",
       "1                        overall_qual  13179.572221\n",
       "2                           ms_zoning  -3642.617223\n",
       "3   ms_subclass_60_house_style_2Story  -2027.315593\n",
       "4                            lot_area      1.046944\n",
       "5                           lot_shape  -1656.057044\n",
       "6                        lot_frontage    162.660922\n",
       "7                         paved_drive  12171.433018\n",
       "8                       totrms_abvgrd   1004.843304\n",
       "9                        kitchen_qual   6849.348896\n",
       "10                         fireplaces     4732.7012\n",
       "11                       fireplace_qu    640.647012\n",
       "12                         abv_grd_sf     38.298198\n",
       "13                         total_bath   1443.614632\n",
       "14                       below_grd_sf     14.309874\n",
       "15                 overall_bsmt_score   1346.881826\n",
       "16                         exter_qual   2418.511717\n",
       "17                 total_outdoor_area      9.450362\n",
       "18               overall_garage_score   1759.104928\n",
       "19                   foundation_PConc   4858.936412\n",
       "20                 garage_type_Attchd   1300.893231\n",
       "21                 garage_type_Detchd   1176.926573\n",
       "22                     roof_style_Hip   2686.491276\n",
       "23               exterior_1st_VinylSd   -773.680083\n",
       "24                  mas_vnr_type_None   3106.546515\n",
       "25                                age   -342.893346\n",
       "26                         electrical   4053.563483\n",
       "27                      sale_type_New   9330.296237"
      ]
     },
     "execution_count": 111,
     "metadata": {},
     "output_type": "execute_result"
    }
   ],
   "source": [
    "train_temp_df =  pd.read_csv(\"../data/train_engineer.csv\")\n",
    "\n",
    "coef_effect = [(i - 1)*train_temp_df.saleprice.mean() for i in transformed_coef]\n",
    "var_impact = pd.DataFrame(data=[X_train_final.columns, coef_effect]).T\n",
    "var_impact.columns = [\"variable\", \"1-unit change\"]\n",
    "var_impact\n"
   ]
  },
  {
   "cell_type": "markdown",
   "id": "9b2eb863",
   "metadata": {},
   "source": [
    "Returning to the problem statement, the envisioned goal was to construct a regression-based model guided by the triple-A framework to predict Ames housing sale prices, with the Ames population as well as invidiuals/families considering to migrate to Ames as the targetted end-users. To this end, the production model has achieved the objectives set; not only are the benchmarks for *accuracy* and *applicability* met, but the production model managed to break the predictor features down into easily *accessible* categories. While the threshold levels for accuracy and applicability (max. 15% degradation) might not be adequately stringent for the likes of property investors, the model serves its primary purpose of providing an indicative estimated selling price of a given house in Ames for buyer's consideration, where a higher degree of flexibility is accorded. \n",
    "\n",
    "To recap: geographical and internal built environment factors seemingly have the largest influence on housing prices in Ames, followed closely by external built environment factors. On the contrary, parcellation and miscellaneous factors pale in comparison, except where the age of the house is concerned. In particular, the factors which influence housing prices the most are Above-grade area, Overall quality, Below-grade area, Neighbourhood and Age. For reference, the table above shows the change in housing sale price for every unit change in the accompanying predictor variable. \n",
    "\n",
    "Thus, having successfully developed the production model, the Planning Division may liaise with the relevant Ames City Council departments (e.g. IT Division) in creating an end-product for consumers. This includes integrating the production model with the interface on [*Beacon*](https://beacon.schneidercorp.com/Default.aspx) - where users can identify subject houses by keying in the Parcel ID, to create a map/geospatial app for end-users. The process of purchasing a house is afterall, an inherently spatial process. \n"
   ]
  },
  {
   "cell_type": "markdown",
   "id": "a0e3b4a6",
   "metadata": {},
   "source": [
    "<div id=\"3.2.3\"></div>\n",
    "\n",
    "#### 3.2.3 Moving Forward\n",
    "\n",
    "Although the project has achieved the main objective set of developing a robust model to predict housing sale prices on a framework grounded in *accuracy*, *applicability* and *accessibility*, there is still scope to improve the production model in these aspects:  \n",
    "\n",
    "    a) Additional Model Tuning\n",
    "\n",
    "As much as care was taken in cleaning, selecting and engineering features to ensure a comprehensive yet not overfitted production model, this was done manually for most parts. Hence, the model is constrained by human limitations. An immediate measure to enhance the model as part of tuning would be implementing computer functions (e.g. SelectKBest, GridSearchCV, GradientBoostingRegressor), which not only reduces effort and time expanded but will likely produce a better outcome in terms of model optimization. \n",
    "\n",
    "    b) Economic Conditions  \n",
    "\n",
    "From the onset, emphasis has been placed on the influence of external economic conditions on housing sale prices in US. In the context of this project, the data collection time period coinciding the US subprime mortgage crisis resulted in recorded housing sale prices affected by external economic conditions. Additional predictor features in the form of economic indicators (e.g. GDP by state, income per capita) may be included in the model to dampen the effects of economic swings on US housing sale prices. In doing so, the model's variance is improved and by extension, applicability across different time scales/periods.  \n",
    "\n",
    "    c) Prevailing Government Policies  \n",
    "    \n",
    "The role of politics has largely been disregard thus far. Speaking from personal/professional experience with regards to the build environment industry, changes in government policies often trigger a swift response from developers. Thus, future models may consider incorporating features relating to [*Ames' Building Codes*](https://www.cityofames.org/government/departments-divisions-i-z/inspections/building-permits/building-codes), which plays a significant role in shaping the built environment/form and resultantly, the sale price of the subject house. \n"
   ]
  },
  {
   "cell_type": "markdown",
   "id": "dc4a7e51",
   "metadata": {},
   "source": [
    "<div id=\"conclusion\"></div>\n",
    "\n",
    "### Conclusion\n",
    "\n",
    "As the project draws to a close, in the capacity of both a local home buyer and urban planner, I contemplate on the lessons which could be extended to Singapore's context. A housing sale price model in the same mold may be developed for Singapore's public housing model (i.e. HDB); besides the handful of universally applicable predictor variables (e.g. Overall quality, Neighbourhood, Age), context-specific features to consider including are distance to MRT stations, and dwelling unit orientation relative to the west \"afternoon\" sun (heat) and major roads (noise), among others. Apart from Residential developments, another idea worth exploring is a property sale price predictor model for other development types (e.g. Commercial, Industrial), which would indisputably be valued by real estate investors and industry players alike. \n"
   ]
  }
 ],
 "metadata": {
  "kernelspec": {
   "display_name": "Python 3 (ipykernel)",
   "language": "python",
   "name": "python3"
  },
  "language_info": {
   "codemirror_mode": {
    "name": "ipython",
    "version": 3
   },
   "file_extension": ".py",
   "mimetype": "text/x-python",
   "name": "python",
   "nbconvert_exporter": "python",
   "pygments_lexer": "ipython3",
   "version": "3.8.12"
  }
 },
 "nbformat": 4,
 "nbformat_minor": 5
}
